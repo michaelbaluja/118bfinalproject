{
  "nbformat": 4,
  "nbformat_minor": 0,
  "metadata": {
    "colab": {
      "name": "DataAnalysis.ipynb",
      "provenance": [],
      "collapsed_sections": [],
      "toc_visible": true
    },
    "kernelspec": {
      "name": "python3",
      "display_name": "Python 3"
    },
    "language_info": {
      "name": "python"
    }
  },
  "cells": [
    {
      "cell_type": "markdown",
      "metadata": {
        "id": "NpVBDu1reLqs"
      },
      "source": [
        "# Imports"
      ]
    },
    {
      "cell_type": "code",
      "metadata": {
        "id": "JxWSVMmuS2IV"
      },
      "source": [
        "import pandas as pd\n",
        "import re, string, unicodedata\n",
        "import matplotlib.pyplot as plt\n",
        "import seaborn as sns\n",
        "import numpy as np"
      ],
      "execution_count": null,
      "outputs": []
    },
    {
      "cell_type": "markdown",
      "metadata": {
        "id": "SpL-jZuwaQ4e"
      },
      "source": [
        "# Data Pre-Processing"
      ]
    },
    {
      "cell_type": "code",
      "metadata": {
        "id": "XmyoZFA0TKbE"
      },
      "source": [
        "# Authenticate access to google drive to read in data\n",
        "\n",
        "# Code to read csv file into Colaboratory:!pip install -U -q PyDrive\n",
        "from pydrive.auth import GoogleAuth\n",
        "from pydrive.drive import GoogleDrive\n",
        "from google.colab import auth\n",
        "from oauth2client.client import GoogleCredentials# Authenticate and create the PyDrive client.\n",
        "auth.authenticate_user()\n",
        "gauth = GoogleAuth()\n",
        "gauth.credentials = GoogleCredentials.get_application_default()\n",
        "drive = GoogleDrive(gauth)"
      ],
      "execution_count": null,
      "outputs": []
    },
    {
      "cell_type": "code",
      "metadata": {
        "id": "MwOzrcQ0WAJ_"
      },
      "source": [
        "# csv google drive links\n",
        "true_link = 'https://drive.google.com/file/d/1Dr7t0Yw2550jpu0ItSeHG2VAJdeEYVoF/view?usp=sharing'\n",
        "fake_link= 'https://drive.google.com/file/d/13lYlJ1MR2QOkGNsVKqD99g__PlQ-f_Oh/view?usp=sharing '\n",
        "\n",
        "# to get the id part of the file\n",
        "true_id = true_link.split('/')[-2]\n",
        "fake_id = fake_link.split('/')[-2]\n",
        "\n",
        "# download the data\n",
        "true_downloaded = drive.CreateFile({'id':true_id}) \n",
        "true_downloaded.GetContentFile('True.csv')\n",
        "\n",
        "fake_downloaded = drive.CreateFile({'id':fake_id}) \n",
        "fake_downloaded.GetContentFile('Fake.csv')\n",
        "\n",
        "# create the data frames\n",
        "true_df = pd.read_csv('True.csv')\n",
        "fake_df = pd.read_csv('Fake.csv')"
      ],
      "execution_count": null,
      "outputs": []
    },
    {
      "cell_type": "code",
      "metadata": {
        "colab": {
          "base_uri": "https://localhost:8080/",
          "height": 206
        },
        "id": "NNXxkifTWwp0",
        "outputId": "387b6bde-36c7-4da7-d195-aa09a2f6b412"
      },
      "source": [
        "# check out the fake data\n",
        "fake_df.head()\n"
      ],
      "execution_count": null,
      "outputs": [
        {
          "output_type": "execute_result",
          "data": {
            "text/html": [
              "<div>\n",
              "<style scoped>\n",
              "    .dataframe tbody tr th:only-of-type {\n",
              "        vertical-align: middle;\n",
              "    }\n",
              "\n",
              "    .dataframe tbody tr th {\n",
              "        vertical-align: top;\n",
              "    }\n",
              "\n",
              "    .dataframe thead th {\n",
              "        text-align: right;\n",
              "    }\n",
              "</style>\n",
              "<table border=\"1\" class=\"dataframe\">\n",
              "  <thead>\n",
              "    <tr style=\"text-align: right;\">\n",
              "      <th></th>\n",
              "      <th>title</th>\n",
              "      <th>text</th>\n",
              "      <th>subject</th>\n",
              "      <th>date</th>\n",
              "    </tr>\n",
              "  </thead>\n",
              "  <tbody>\n",
              "    <tr>\n",
              "      <th>0</th>\n",
              "      <td>Donald Trump Sends Out Embarrassing New Year’...</td>\n",
              "      <td>Donald Trump just couldn t wish all Americans ...</td>\n",
              "      <td>News</td>\n",
              "      <td>December 31, 2017</td>\n",
              "    </tr>\n",
              "    <tr>\n",
              "      <th>1</th>\n",
              "      <td>Drunk Bragging Trump Staffer Started Russian ...</td>\n",
              "      <td>House Intelligence Committee Chairman Devin Nu...</td>\n",
              "      <td>News</td>\n",
              "      <td>December 31, 2017</td>\n",
              "    </tr>\n",
              "    <tr>\n",
              "      <th>2</th>\n",
              "      <td>Sheriff David Clarke Becomes An Internet Joke...</td>\n",
              "      <td>On Friday, it was revealed that former Milwauk...</td>\n",
              "      <td>News</td>\n",
              "      <td>December 30, 2017</td>\n",
              "    </tr>\n",
              "    <tr>\n",
              "      <th>3</th>\n",
              "      <td>Trump Is So Obsessed He Even Has Obama’s Name...</td>\n",
              "      <td>On Christmas day, Donald Trump announced that ...</td>\n",
              "      <td>News</td>\n",
              "      <td>December 29, 2017</td>\n",
              "    </tr>\n",
              "    <tr>\n",
              "      <th>4</th>\n",
              "      <td>Pope Francis Just Called Out Donald Trump Dur...</td>\n",
              "      <td>Pope Francis used his annual Christmas Day mes...</td>\n",
              "      <td>News</td>\n",
              "      <td>December 25, 2017</td>\n",
              "    </tr>\n",
              "  </tbody>\n",
              "</table>\n",
              "</div>"
            ],
            "text/plain": [
              "                                               title  ...               date\n",
              "0   Donald Trump Sends Out Embarrassing New Year’...  ...  December 31, 2017\n",
              "1   Drunk Bragging Trump Staffer Started Russian ...  ...  December 31, 2017\n",
              "2   Sheriff David Clarke Becomes An Internet Joke...  ...  December 30, 2017\n",
              "3   Trump Is So Obsessed He Even Has Obama’s Name...  ...  December 29, 2017\n",
              "4   Pope Francis Just Called Out Donald Trump Dur...  ...  December 25, 2017\n",
              "\n",
              "[5 rows x 4 columns]"
            ]
          },
          "metadata": {
            "tags": []
          },
          "execution_count": 5
        }
      ]
    },
    {
      "cell_type": "code",
      "metadata": {
        "colab": {
          "base_uri": "https://localhost:8080/",
          "height": 206
        },
        "id": "Z9cJDp-hXMul",
        "outputId": "3f6d8ab2-d4a6-418c-df98-f94b8e781858"
      },
      "source": [
        "# check out the true data\n",
        "true_df.head()"
      ],
      "execution_count": null,
      "outputs": [
        {
          "output_type": "execute_result",
          "data": {
            "text/html": [
              "<div>\n",
              "<style scoped>\n",
              "    .dataframe tbody tr th:only-of-type {\n",
              "        vertical-align: middle;\n",
              "    }\n",
              "\n",
              "    .dataframe tbody tr th {\n",
              "        vertical-align: top;\n",
              "    }\n",
              "\n",
              "    .dataframe thead th {\n",
              "        text-align: right;\n",
              "    }\n",
              "</style>\n",
              "<table border=\"1\" class=\"dataframe\">\n",
              "  <thead>\n",
              "    <tr style=\"text-align: right;\">\n",
              "      <th></th>\n",
              "      <th>title</th>\n",
              "      <th>text</th>\n",
              "      <th>subject</th>\n",
              "      <th>date</th>\n",
              "    </tr>\n",
              "  </thead>\n",
              "  <tbody>\n",
              "    <tr>\n",
              "      <th>0</th>\n",
              "      <td>As U.S. budget fight looms, Republicans flip t...</td>\n",
              "      <td>WASHINGTON (Reuters) - The head of a conservat...</td>\n",
              "      <td>politicsNews</td>\n",
              "      <td>December 31, 2017</td>\n",
              "    </tr>\n",
              "    <tr>\n",
              "      <th>1</th>\n",
              "      <td>U.S. military to accept transgender recruits o...</td>\n",
              "      <td>WASHINGTON (Reuters) - Transgender people will...</td>\n",
              "      <td>politicsNews</td>\n",
              "      <td>December 29, 2017</td>\n",
              "    </tr>\n",
              "    <tr>\n",
              "      <th>2</th>\n",
              "      <td>Senior U.S. Republican senator: 'Let Mr. Muell...</td>\n",
              "      <td>WASHINGTON (Reuters) - The special counsel inv...</td>\n",
              "      <td>politicsNews</td>\n",
              "      <td>December 31, 2017</td>\n",
              "    </tr>\n",
              "    <tr>\n",
              "      <th>3</th>\n",
              "      <td>FBI Russia probe helped by Australian diplomat...</td>\n",
              "      <td>WASHINGTON (Reuters) - Trump campaign adviser ...</td>\n",
              "      <td>politicsNews</td>\n",
              "      <td>December 30, 2017</td>\n",
              "    </tr>\n",
              "    <tr>\n",
              "      <th>4</th>\n",
              "      <td>Trump wants Postal Service to charge 'much mor...</td>\n",
              "      <td>SEATTLE/WASHINGTON (Reuters) - President Donal...</td>\n",
              "      <td>politicsNews</td>\n",
              "      <td>December 29, 2017</td>\n",
              "    </tr>\n",
              "  </tbody>\n",
              "</table>\n",
              "</div>"
            ],
            "text/plain": [
              "                                               title  ...                date\n",
              "0  As U.S. budget fight looms, Republicans flip t...  ...  December 31, 2017 \n",
              "1  U.S. military to accept transgender recruits o...  ...  December 29, 2017 \n",
              "2  Senior U.S. Republican senator: 'Let Mr. Muell...  ...  December 31, 2017 \n",
              "3  FBI Russia probe helped by Australian diplomat...  ...  December 30, 2017 \n",
              "4  Trump wants Postal Service to charge 'much mor...  ...  December 29, 2017 \n",
              "\n",
              "[5 rows x 4 columns]"
            ]
          },
          "metadata": {
            "tags": []
          },
          "execution_count": 6
        }
      ]
    },
    {
      "cell_type": "code",
      "metadata": {
        "colab": {
          "base_uri": "https://localhost:8080/"
        },
        "id": "aInPbkG_dbIt",
        "outputId": "a51038a3-87a9-499e-9c65-45fc42e5cee6"
      },
      "source": [
        "# check for null data in true_df\n",
        "true_df.isna().sum()"
      ],
      "execution_count": null,
      "outputs": [
        {
          "output_type": "execute_result",
          "data": {
            "text/plain": [
              "title      0\n",
              "text       0\n",
              "subject    0\n",
              "date       0\n",
              "dtype: int64"
            ]
          },
          "metadata": {
            "tags": []
          },
          "execution_count": 7
        }
      ]
    },
    {
      "cell_type": "code",
      "metadata": {
        "colab": {
          "base_uri": "https://localhost:8080/"
        },
        "id": "V56DiDyNdjbM",
        "outputId": "dac168ae-a27b-40cc-f89e-6c57d19c50c1"
      },
      "source": [
        "# check for null data in fake_df\n",
        "fake_df.isna().sum()"
      ],
      "execution_count": null,
      "outputs": [
        {
          "output_type": "execute_result",
          "data": {
            "text/plain": [
              "title      0\n",
              "text       0\n",
              "subject    0\n",
              "date       0\n",
              "dtype: int64"
            ]
          },
          "metadata": {
            "tags": []
          },
          "execution_count": 8
        }
      ]
    },
    {
      "cell_type": "markdown",
      "metadata": {
        "id": "ZpP0D94OAUpX"
      },
      "source": [
        "## Data Cleaning Functions"
      ]
    },
    {
      "cell_type": "code",
      "metadata": {
        "id": "uwTHq82niWmb",
        "colab": {
          "base_uri": "https://localhost:8080/",
          "height": 36
        },
        "outputId": "7223a530-1a61-4058-b195-c47620f27420"
      },
      "source": [
        "# dictionary of all possible contractions\n",
        "CONTRACTION_MAP = {\n",
        "\"ain't\": \"is not\",\"aren't\": \"are not\",\"can't\": \"cannot\",\"can't've\": \"cannot have\",\"'cause\": \"because\",\n",
        "\"could've\": \"could have\",\"couldn't\": \"could not\",\"couldn't've\": \"could not have\",\"didn't\": \"did not\",\n",
        "\"doesn't\": \"does not\",\"don't\": \"do not\",\"hadn't\": \"had not\",\"hadn't've\": \"had not have\",\"hasn't\": \"has not\",\n",
        "\"haven't\": \"have not\",\"he'd\": \"he would\",\"he'd've\": \"he would have\",\"he'll\": \"he will\",\"he'll've\": \"he he will have\",\n",
        "\"he's\": \"he is\",\"how'd\": \"how did\",\"how'd'y\": \"how do you\",\"how'll\": \"how will\",\"how's\": \"how is\",\"I'd\": \"I would\",\n",
        "\"I'd've\": \"I would have\",\"I'll\": \"I will\",\"I'll've\": \"I will have\",\"I'm\": \"I am\",\"I've\": \"I have\",\"i'd\": \"i would\",\n",
        "\"i'd've\": \"i would have\",\"i'll\": \"i will\",\"i'll've\": \"i will have\",\"i'm\": \"i am\",\"i've\": \"i have\",\"isn't\": \"is not\",\n",
        "\"it'd\": \"it would\",\"it'd've\": \"it would have\",\"it'll\": \"it will\",\"it'll've\": \"it will have\",\"it's\": \"it is\",\n",
        "\"let's\": \"let us\",\"ma'am\": \"madam\",\"mayn't\": \"may not\",\"might've\": \"might have\",\"mightn't\": \"might not\",\n",
        "\"mightn't've\": \"might not have\",\"must've\": \"must have\",\"mustn't\": \"must not\",\"mustn't've\": \"must not have\",\n",
        "\"needn't\": \"need not\",\"needn't've\": \"need not have\",\"o'clock\": \"of the clock\",\"oughtn't\": \"ought not\",\n",
        "\"oughtn't've\": \"ought not have\",\"shan't\": \"shall not\",\"sha'n't\": \"shall not\",\"shan't've\": \"shall not have\",\n",
        "\"she'd\": \"she would\",\"she'd've\": \"she would have\",\"she'll\": \"she will\",\"she'll've\": \"she will have\",\"she's\": \"she is\",\n",
        "\"should've\": \"should have\",\"shouldn't\": \"should not\",\"shouldn't've\": \"should not have\",\"so've\": \"so have\",\n",
        "\"so's\": \"so as\",\"that'd\": \"that would\",\"that'd've\": \"that would have\",\"that's\": \"that is\",\"there'd\": \"there would\",\n",
        "\"there'd've\": \"there would have\",\"there's\": \"there is\",\"they'd\": \"they would\",\"they'd've\": \"they would have\",\n",
        "\"they'll\": \"they will\",\"they'll've\": \"they will have\",\"they're\": \"they are\",\"they've\": \"they have\",\"to've\": \"to have\",\n",
        "\"wasn't\": \"was not\",\"we'd\": \"we would\",\"we'd've\": \"we would have\",\"we'll\": \"we will\",\"we'll've\": \"we will have\",\n",
        "\"we're\": \"we are\",\"we've\": \"we have\",\"weren't\": \"were not\",\"what'll\": \"what will\",\"what'll've\": \"what will have\",\n",
        "\"what're\": \"what are\",\"what's\": \"what is\",\"what've\": \"what have\",\"when's\": \"when is\",\"when've\": \"when have\",\n",
        "\"where'd\": \"where did\",\"where's\": \"where is\",\"where've\": \"where have\",\"who'll\": \"who will\",\n",
        "\"who'll've\": \"who will have\",\"who's\": \"who is\",\"who've\": \"who have\",\"why's\": \"why is\",\"why've\": \"why have\",\n",
        "\"will've\": \"will have\",\"won't\": \"will not\",\"won't've\": \"will not have\",\"would've\": \"would have\",\n",
        "\"wouldn't\": \"would not\",\"wouldn't've\": \"would not have\",\"y'all\": \"you all\",\"y'all'd\": \"you all would\",\n",
        "\"y'all'd've\": \"you all would have\",\"y'all're\": \"you all are\",\"y'all've\": \"you all have\",\"you'd\": \"you would\",\n",
        "\"you'd've\": \"you would have\",\"you'll\": \"you will\",\"you'll've\": \"you will have\",\"you're\": \"you are\",\"you've\": \"you have\"\n",
        "}\n",
        "\n",
        "# function to expand contractions in text\n",
        "def expand_contractions(text, contraction_mapping=CONTRACTION_MAP):\n",
        "    \"\"\"\n",
        "    Expands any contractions within a given string\n",
        "    \"\"\"\n",
        "\n",
        "    contractions_pattern = re.compile('({})'.format('|'.join(contraction_mapping.keys())), \n",
        "                                      flags=re.IGNORECASE|re.DOTALL)\n",
        "    def expand_match(contraction):\n",
        "        match = contraction.group(0)\n",
        "        first_char = match[0]\n",
        "        expanded_contraction = contraction_mapping.get(match)\\\n",
        "                                if contraction_mapping.get(match)\\\n",
        "                                else contraction_mapping.get(match.lower())\n",
        "        expanded_contraction = first_char+expanded_contraction[1:]\n",
        "        return expanded_contraction\n",
        "\n",
        "    expanded_text = contractions_pattern.sub(expand_match, text)\n",
        "    expanded_text = re.sub(\"'\", \"\", expanded_text)\n",
        "    return expanded_text\n",
        "\n",
        "expand_contractions(\"Y'all can't expand contractions I'd think in the U.S.\")"
      ],
      "execution_count": null,
      "outputs": [
        {
          "output_type": "execute_result",
          "data": {
            "application/vnd.google.colaboratory.intrinsic+json": {
              "type": "string"
            },
            "text/plain": [
              "'You all cannot expand contractions I would think in the U.S.'"
            ]
          },
          "metadata": {
            "tags": []
          },
          "execution_count": 9
        }
      ]
    },
    {
      "cell_type": "code",
      "metadata": {
        "id": "rCSD0UOGrfp9"
      },
      "source": [
        "# fake_df[fake_df.title.str.contains('@')]"
      ],
      "execution_count": null,
      "outputs": []
    },
    {
      "cell_type": "code",
      "metadata": {
        "id": "JTnMmOq_h_zD"
      },
      "source": [
        "# pd.set_option('display.max_colwidth', None)"
      ],
      "execution_count": null,
      "outputs": []
    },
    {
      "cell_type": "code",
      "metadata": {
        "id": "PR0bcZTAnG_c"
      },
      "source": [
        "# fake_df[fake_df['title'].str.contains(\"@\")]"
      ],
      "execution_count": null,
      "outputs": []
    },
    {
      "cell_type": "code",
      "metadata": {
        "id": "UXhtOORLnwfA"
      },
      "source": [
        "# fake_df[fake_df['title'].str.contains(\"#\")]"
      ],
      "execution_count": null,
      "outputs": []
    },
    {
      "cell_type": "code",
      "metadata": {
        "id": "VJmjBCcYn_Wq"
      },
      "source": [
        "# fake_df[fake_df['title'].str.contains(\"$\")]"
      ],
      "execution_count": null,
      "outputs": []
    },
    {
      "cell_type": "code",
      "metadata": {
        "colab": {
          "base_uri": "https://localhost:8080/",
          "height": 36
        },
        "id": "m_144QlMsFn2",
        "outputId": "fb040b50-5a5f-49a9-f977-cf7519304952"
      },
      "source": [
        "# add profanity mappings here\n",
        "PROFANITY_MAP = {\"@ss\": \"ass\", \"a@s\":\"ass\",\"a@@\":\"ass\",\n",
        "                 \"*ss\": \"ass\", \"a*s\":\"ass\",\"a**\":\"ass\",\n",
        "                 \"-ss\": \"ass\", \"a-s\":\"ass\",\"a--\":\"ass\",\n",
        "                 \"!ss\": \"ass\", \"a!s\":\"ass\",\"a!!\":\"ass\",\n",
        "                 \"#ss\": \"ass\", \"a#s\":\"ass\",\"a##\":\"ass\",\n",
        "                 \"%ss\": \"ass\", \"a%s\":\"ass\",\"a%%\":\"ass\",\n",
        "                 \"&ss\": \"ass\", \"a&s\":\"ass\",\"a&&\":\"ass\", \n",
        "                 \"jack@ss\": \"jackass\", \"jacka@s\":\"jackass\",\"jacka@@\":\"jackass\",\n",
        "                 \"jack*ss\": \"jackass\", \"jacka*s\":\"jackass\",\"jacka**\":\"jackass\",\n",
        "                 \"jack-ss\": \"jackass\", \"jacka-s\":\"jackass\",\"jacka--\":\"jackass\",\n",
        "                 \"jack!ss\": \"jackass\", \"jacka!s\":\"jackass\",\"jacka!!\":\"jackass\",\n",
        "                 \"jack#ss\": \"jackass\", \"jacka#s\":\"jackass\",\"jacka##\":\"jackass\",\n",
        "                 \"jack%ss\": \"jackass\", \"jacka%s\":\"jackass\",\"jacka%%\":\"jackass\",\n",
        "                 \"jack&ss\": \"jackass\", \"jacka&s\":\"jackass\",\"jacka&&\":\"jackass\",\n",
        "                 \"f@ck\":\"fuck\",\"f@@k\":\"fuck\",\"f@@@\":\"fuck\",\"@uck\":\"fuck\",\n",
        "                 \"f*ck\":\"fuck\",\"f**k\":\"fuck\",\"f***\":\"fuck\",\"*uck\":\"fuck\",\n",
        "                 \"f-ck\":\"fuck\",\"f--k\":\"fuck\",\"f---\":\"fuck\",\"-uck\":\"fuck\",\n",
        "                 \"f!ck\":\"fuck\",\"f!!k\":\"fuck\",\"f!!!\":\"fuck\",\"!uck\":\"fuck\",\n",
        "                 \"f#ck\":\"fuck\",\"f##k\":\"fuck\",\"f###\":\"fuck\",\"#uck\":\"fuck\",\n",
        "                 \"f%ck\":\"fuck\",\"f%%k\":\"fuck\",\"f%%%\":\"fuck\",\"%uck\":\"fuck\",\n",
        "                 \"f&ck\":\"fuck\",\"f&&k\":\"fuck\",\"f&&&\":\"fuck\",\"&uck\":\"fuck\",\n",
        "                 \"s@it\":\"shit\",\"sh@t\":\"shit\",\"sh@@\":\"shit\",\"shi@\":\"shit\",\"s@@t\":\"shit\",\n",
        "                 \"s*it\":\"shit\",\"sh*t\":\"shit\",\"sh**\":\"shit\",\"shi*\":\"shit\",\"s**t\":\"shit\",\n",
        "                 \"s-it\":\"shit\",\"sh-t\":\"shit\",\"sh--\":\"shit\",\"shi-\":\"shit\",\"s--t\":\"shit\",\n",
        "                 \"s!it\":\"shit\",\"sh!t\":\"shit\",\"sh!!\":\"shit\",\"shi!\":\"shit\",\"s!!t\":\"shit\",\n",
        "                 \"s#it\":\"shit\",\"sh#t\":\"shit\",\"sh##\":\"shit\",\"shi#\":\"shit\",\"s##t\":\"shit\",\n",
        "                 \"s%it\":\"shit\",\"sh%t\":\"shit\",\"sh%%\":\"shit\",\"shi%\":\"shit\",\"s%%t\":\"shit\",\n",
        "                 \"s&it\":\"shit\",\"sh&t\":\"shit\",\"sh&&\":\"shit\",\"shi&\":\"shit\",\"s&&t\":\"shit\",\n",
        "                 \"d@mn\":\"damn\",\"d@@n\":\"damn\",\"da@n\":\"damn\",\"dam@\":\"damn\",\n",
        "                 \"d*mn\":\"damn\",\"d**n\":\"damn\",\"da*n\":\"damn\",\"dam*\":\"damn\",\n",
        "                 \"d-mn\":\"damn\",\"d--n\":\"damn\",\"da-n\":\"damn\",\"dam-\":\"damn\",\n",
        "                 \"d!mn\":\"damn\",\"d!!n\":\"damn\",\"da!n\":\"damn\",\"dam!\":\"damn\",\n",
        "                 \"d#mn\":\"damn\",\"d##n\":\"damn\",\"da#n\":\"damn\",\"dam#\":\"damn\",\n",
        "                 \"d%mn\":\"damn\",\"d%%n\":\"damn\",\"da%n\":\"damn\",\"dam%\":\"damn\",\n",
        "                 \"d&mn\":\"damn\",\"d&&n\":\"damn\",\"da&n\":\"damn\",\"dam&\":\"damn\",\n",
        "                 \"@ussy\":\"pussy\",\"p@ssy\":\"pussy\",\"pu@sy\":\"pussy\",\"pus@y\":\"pussy\",\"puss@\":\"pussy\",\"p@@sy\":\"pussy\",\"pu@@y\":\"pussy\",\"pus@@\":\"pussy\",\"@@ssy\":\"pussy\",\"pu@@@\":\"pussy\",\"p@@@y\":\"pussy\",\n",
        "                 \"*ussy\":\"pussy\",\"p*ssy\":\"pussy\",\"pu*sy\":\"pussy\",\"pus*y\":\"pussy\",\"puss*\":\"pussy\",\"p**sy\":\"pussy\",\"pu**y\":\"pussy\",\"pus**\":\"pussy\",\"**ssy\":\"pussy\",\"pu***\":\"pussy\",\"p***y\":\"pussy\",\n",
        "                 \"-ussy\":\"pussy\",\"p-ssy\":\"pussy\",\"pu-sy\":\"pussy\",\"pus-y\":\"pussy\",\"puss-\":\"pussy\",\"p--sy\":\"pussy\",\"pu--y\":\"pussy\",\"pus--\":\"pussy\",\"--ssy\":\"pussy\",\"pu---\":\"pussy\",\"p---y\":\"pussy\",\n",
        "                 \"!ussy\":\"pussy\",\"p!ssy\":\"pussy\",\"pu!sy\":\"pussy\",\"pus!y\":\"pussy\",\"puss!\":\"pussy\",\"p!!sy\":\"pussy\",\"pu!!y\":\"pussy\",\"pus!!\":\"pussy\",\"!!ssy\":\"pussy\",\"pu!!!\":\"pussy\",\"p!!!y\":\"pussy\",\n",
        "                 \"#ussy\":\"pussy\",\"p#ssy\":\"pussy\",\"pu#sy\":\"pussy\",\"pus#y\":\"pussy\",\"puss#\":\"pussy\",\"p##sy\":\"pussy\",\"pu##y\":\"pussy\",\"pus##\":\"pussy\",\"##ssy\":\"pussy\",\"pu###\":\"pussy\",\"p###y\":\"pussy\",\n",
        "                 \"%ussy\":\"pussy\",\"p%ssy\":\"pussy\",\"pu%sy\":\"pussy\",\"pus%y\":\"pussy\",\"puss%\":\"pussy\",\"p%%sy\":\"pussy\",\"pu%%y\":\"pussy\",\"pus%%\":\"pussy\",\"%%ssy\":\"pussy\",\"pu%%%\":\"pussy\",\"p%%%y\":\"pussy\",\n",
        "                 \"&ussy\":\"pussy\",\"p&ssy\":\"pussy\",\"pu&sy\":\"pussy\",\"pus&y\":\"pussy\",\"puss&\":\"pussy\",\"p&&sy\":\"pussy\",\"pu&&y\":\"pussy\",\"pus&&\":\"pussy\",\"&&ssy\":\"pussy\",\"pu&&&\":\"pussy\",\"p&&&y\":\"pussy\",\n",
        "                 \"n@gger\":\"nigger\",\"n@@ger\":\"nigger\",\"n@@@er\":\"nigger\",\"@igger\":\"nigger\",\"@@gger\":\"nigger\",\"nig@@@\":\"nigger\",\"@@@ger\":\"nigger\",\n",
        "                 \"n*gger\":\"nigger\",\"n**ger\":\"nigger\",\"n***er\":\"nigger\",\"*igger\":\"nigger\",\"**gger\":\"nigger\",\"nig***\":\"nigger\",\"***ger\":\"nigger\",\n",
        "                 \"n-gger\":\"nigger\",\"n--ger\":\"nigger\",\"n---er\":\"nigger\",\"-igger\":\"nigger\",\"--gger\":\"nigger\",\"nig---\":\"nigger\",\"---ger\":\"nigger\",\n",
        "                 \"n!gger\":\"nigger\",\"n!!ger\":\"nigger\",\"n!!!er\":\"nigger\",\"!igger\":\"nigger\",\"!!gger\":\"nigger\",\"nig!!!\":\"nigger\",\"!!!ger\":\"nigger\",\n",
        "                 \"n#gger\":\"nigger\",\"n##ger\":\"nigger\",\"n###er\":\"nigger\",\"#igger\":\"nigger\",\"##gger\":\"nigger\",\"nig###\":\"nigger\",\"###ger\":\"nigger\",\n",
        "                 \"n%gger\":\"nigger\",\"n%%ger\":\"nigger\",\"n%%%er\":\"nigger\",\"%igger\":\"nigger\",\"%%gger\":\"nigger\",\"nig%%%\":\"nigger\",\"%%%ger\":\"nigger\",\n",
        "                 \"n&gger\":\"nigger\",\"n&&ger\":\"nigger\",\"n&&&er\":\"nigger\",\"&igger\":\"nigger\",\"&&gger\":\"nigger\",\"nig&&&\":\"nigger\",\"&&&ger\":\"nigger\",\n",
        "                 \"c@ck\":\"cock\",\"co@k\":\"cock\",\"@ock\":\"cock\",\"c@@k\":\"cock\",\n",
        "                 \"c*ck\":\"cock\",\"co*k\":\"cock\",\"*ock\":\"cock\",\"c**k\":\"cock\",\n",
        "                 \"c-ck\":\"cock\",\"co-k\":\"cock\",\"-ock\":\"cock\",\"c--k\":\"cock\",\n",
        "                 \"c#ck\":\"cock\",\"co#k\":\"cock\",\"#ock\":\"cock\",\"c##k\":\"cock\",\n",
        "                 \"c!ck\":\"cock\",\"co!k\":\"cock\",\"!ock\":\"cock\",\"c!!k\":\"cock\",\n",
        "                 \"c%ck\":\"cock\",\"co%k\":\"cock\",\"%ock\":\"cock\",\"c%%k\":\"cock\",\n",
        "                 \"c&ck\":\"cock\",\"co&k\":\"cock\",\"&ock\":\"cock\",\"c&&k\":\"cock\",\n",
        "                 \"c@nt\":\"cunt\",\"cu@t\":\"cunt\",\"@unt\":\"cunt\",\"c@@t\":\"cunt\",\n",
        "                 \"c*nt\":\"cunt\",\"cu*t\":\"cunt\",\"*unt\":\"cunt\",\"c**t\":\"cunt\",\n",
        "                 \"c-nt\":\"cunt\",\"cu-t\":\"cunt\",\"-unt\":\"cunt\",\"c--t\":\"cunt\",\n",
        "                 \"c#nt\":\"cunt\",\"cu#t\":\"cunt\",\"#unt\":\"cunt\",\"c##t\":\"cunt\",\n",
        "                 \"c!nt\":\"cunt\",\"cu!t\":\"cunt\",\"!unt\":\"cunt\",\"c!!t\":\"cunt\",\n",
        "                 \"c%nt\":\"cunt\",\"cu%t\":\"cunt\",\"%unt\":\"cunt\",\"c%%t\":\"cunt\",\n",
        "                 \"c&nt\":\"cunt\",\"cu&t\":\"cunt\",\"&unt\":\"cunt\",\"c&&t\":\"cunt\"\n",
        "                 }\n",
        "\n",
        "# function to reverse profanity in text\n",
        "def reverse_profanity(text):\n",
        "    \"\"\"\n",
        "    reverse profanity filter within a given string\n",
        "    \"\"\"\n",
        "\n",
        "    map = ' '.join([PROFANITY_MAP.get(i, i) for i in text.split()])\n",
        "    return map\n",
        "\n",
        "reverse_profanity(\"f-ck you jack@ss, Donald, grab em right in pu*** or c@@t\")"
      ],
      "execution_count": null,
      "outputs": [
        {
          "output_type": "execute_result",
          "data": {
            "application/vnd.google.colaboratory.intrinsic+json": {
              "type": "string"
            },
            "text/plain": [
              "'fuck you jack@ss, Donald, grab em right in pussy or cunt'"
            ]
          },
          "metadata": {
            "tags": []
          },
          "execution_count": 15
        }
      ]
    },
    {
      "cell_type": "code",
      "metadata": {
        "colab": {
          "base_uri": "https://localhost:8080/",
          "height": 36
        },
        "id": "e4WuRxUcxHd7",
        "outputId": "c0e71e67-c7db-4b7a-ab5e-47153bc8bc52"
      },
      "source": [
        "# starting a regex cleaning function \n",
        "import re\n",
        "\n",
        "def clean_string(string):\n",
        "  \"\"\"\n",
        "  Remove @username handles\n",
        "  Remove '#' hashtags\n",
        "  Add spaces before captial letters\n",
        "  \"\"\"\n",
        "  string = reverse_profanity(string)\n",
        "  string = ' '.join(re.sub(\"(@[A-Za-z0-9]+)|([^0-9A-Za-z \\t])|(\\w+:\\/\\/\\S+)\",\" \",string).split())\n",
        "  string = re.sub(r\"(\\w)([A-Z]+[a-z])\", r\"\\1 \\2\", string)\n",
        "  string = string.replace(\"U S\", \"United States\")\n",
        "  string = re.sub(r'^https?:\\/\\/.*[\\r\\n]*', '', string, flags=re.MULTILINE)\n",
        "  \n",
        "  return string\n",
        "\n",
        "clean_string(\"WHAT THE HELL, #ThatWasWeird #SICK @ThatOneGuy, 'someone help this' get this jack@ss a pickle, U.S. of America check out our data at https://colab.research.google.com/drive/122N2BrR7zN_Da5J4pemFaH_Eit626EcI?authuser=1#scrollTo=e4WuRxUcxHd7\")"
      ],
      "execution_count": null,
      "outputs": [
        {
          "output_type": "execute_result",
          "data": {
            "application/vnd.google.colaboratory.intrinsic+json": {
              "type": "string"
            },
            "text/plain": [
              "'WHAT THE HELL That Was Weird SICK someone help this get this jackass a pickle United States of America check out our data at'"
            ]
          },
          "metadata": {
            "tags": []
          },
          "execution_count": 17
        }
      ]
    },
    {
      "cell_type": "code",
      "metadata": {
        "id": "89dK6nyNu3UY"
      },
      "source": [
        "def clean_comments(df):\n",
        "  \"\"\"\n",
        "  Applies the above cleaning functions to a dataframe\n",
        "  \"\"\"\n",
        "  df = df.apply(str)\n",
        "  df = df.apply(expand_contractions)\n",
        "  df = df.apply(str)\n",
        "  df = df.apply(clean_string)\n",
        "  df = pd.DataFrame(df)\n",
        "  df.columns =['clean_title']\n",
        "  df = df[df != 'nan']\n",
        "  \n",
        "  return df"
      ],
      "execution_count": null,
      "outputs": []
    },
    {
      "cell_type": "markdown",
      "metadata": {
        "id": "1iWtUWrF3zDb"
      },
      "source": [
        "## Cleaning the Data"
      ]
    },
    {
      "cell_type": "markdown",
      "metadata": {
        "id": "i5Vbjxd5364B"
      },
      "source": [
        "### Cleaning fake news data"
      ]
    },
    {
      "cell_type": "code",
      "metadata": {
        "colab": {
          "base_uri": "https://localhost:8080/",
          "height": 424
        },
        "id": "WWNsF7lhvCpl",
        "outputId": "32bc380e-0f09-41c8-f1df-e6436d253e6c"
      },
      "source": [
        "clean_fake_df = fake_df['title']\n",
        "clean_fake_df = clean_comments(clean_fake_df)\n",
        "clean_fake_df"
      ],
      "execution_count": null,
      "outputs": [
        {
          "output_type": "execute_result",
          "data": {
            "text/html": [
              "<div>\n",
              "<style scoped>\n",
              "    .dataframe tbody tr th:only-of-type {\n",
              "        vertical-align: middle;\n",
              "    }\n",
              "\n",
              "    .dataframe tbody tr th {\n",
              "        vertical-align: top;\n",
              "    }\n",
              "\n",
              "    .dataframe thead th {\n",
              "        text-align: right;\n",
              "    }\n",
              "</style>\n",
              "<table border=\"1\" class=\"dataframe\">\n",
              "  <thead>\n",
              "    <tr style=\"text-align: right;\">\n",
              "      <th></th>\n",
              "      <th>clean_title</th>\n",
              "    </tr>\n",
              "  </thead>\n",
              "  <tbody>\n",
              "    <tr>\n",
              "      <th>0</th>\n",
              "      <td>Donald Trump Sends Out Embarrassing New Year s...</td>\n",
              "    </tr>\n",
              "    <tr>\n",
              "      <th>1</th>\n",
              "      <td>Drunk Bragging Trump Staffer Started Russian C...</td>\n",
              "    </tr>\n",
              "    <tr>\n",
              "      <th>2</th>\n",
              "      <td>Sheriff David Clarke Becomes An Internet Joke ...</td>\n",
              "    </tr>\n",
              "    <tr>\n",
              "      <th>3</th>\n",
              "      <td>Trump Is So Obsessed He Even Has Obama s Name ...</td>\n",
              "    </tr>\n",
              "    <tr>\n",
              "      <th>4</th>\n",
              "      <td>Pope Francis Just Called Out Donald Trump Duri...</td>\n",
              "    </tr>\n",
              "    <tr>\n",
              "      <th>...</th>\n",
              "      <td>...</td>\n",
              "    </tr>\n",
              "    <tr>\n",
              "      <th>23476</th>\n",
              "      <td>Mc Pain John Mc Cain Furious That Iran Treated...</td>\n",
              "    </tr>\n",
              "    <tr>\n",
              "      <th>23477</th>\n",
              "      <td>JUSTICE Yahoo Settles E mail Privacy Class act...</td>\n",
              "    </tr>\n",
              "    <tr>\n",
              "      <th>23478</th>\n",
              "      <td>Sunnistan US and Allied Safe Zone Plan to Take...</td>\n",
              "    </tr>\n",
              "    <tr>\n",
              "      <th>23479</th>\n",
              "      <td>How to Blow 700 Million Al Jazeera America Fin...</td>\n",
              "    </tr>\n",
              "    <tr>\n",
              "      <th>23480</th>\n",
              "      <td>10 United States Navy Sailors Held by Iranian ...</td>\n",
              "    </tr>\n",
              "  </tbody>\n",
              "</table>\n",
              "<p>23481 rows × 1 columns</p>\n",
              "</div>"
            ],
            "text/plain": [
              "                                             clean_title\n",
              "0      Donald Trump Sends Out Embarrassing New Year s...\n",
              "1      Drunk Bragging Trump Staffer Started Russian C...\n",
              "2      Sheriff David Clarke Becomes An Internet Joke ...\n",
              "3      Trump Is So Obsessed He Even Has Obama s Name ...\n",
              "4      Pope Francis Just Called Out Donald Trump Duri...\n",
              "...                                                  ...\n",
              "23476  Mc Pain John Mc Cain Furious That Iran Treated...\n",
              "23477  JUSTICE Yahoo Settles E mail Privacy Class act...\n",
              "23478  Sunnistan US and Allied Safe Zone Plan to Take...\n",
              "23479  How to Blow 700 Million Al Jazeera America Fin...\n",
              "23480  10 United States Navy Sailors Held by Iranian ...\n",
              "\n",
              "[23481 rows x 1 columns]"
            ]
          },
          "metadata": {
            "tags": []
          },
          "execution_count": 19
        }
      ]
    },
    {
      "cell_type": "code",
      "metadata": {
        "colab": {
          "base_uri": "https://localhost:8080/",
          "height": 424
        },
        "id": "2rBqfPZByKok",
        "outputId": "a5bc4d87-ff78-46d9-8d8a-95f9900bc8c5"
      },
      "source": [
        "df_fake = pd.concat([clean_fake_df, fake_df], axis =1)\n",
        "df_fake"
      ],
      "execution_count": null,
      "outputs": [
        {
          "output_type": "execute_result",
          "data": {
            "text/html": [
              "<div>\n",
              "<style scoped>\n",
              "    .dataframe tbody tr th:only-of-type {\n",
              "        vertical-align: middle;\n",
              "    }\n",
              "\n",
              "    .dataframe tbody tr th {\n",
              "        vertical-align: top;\n",
              "    }\n",
              "\n",
              "    .dataframe thead th {\n",
              "        text-align: right;\n",
              "    }\n",
              "</style>\n",
              "<table border=\"1\" class=\"dataframe\">\n",
              "  <thead>\n",
              "    <tr style=\"text-align: right;\">\n",
              "      <th></th>\n",
              "      <th>clean_title</th>\n",
              "      <th>title</th>\n",
              "      <th>text</th>\n",
              "      <th>subject</th>\n",
              "      <th>date</th>\n",
              "    </tr>\n",
              "  </thead>\n",
              "  <tbody>\n",
              "    <tr>\n",
              "      <th>0</th>\n",
              "      <td>Donald Trump Sends Out Embarrassing New Year s...</td>\n",
              "      <td>Donald Trump Sends Out Embarrassing New Year’...</td>\n",
              "      <td>Donald Trump just couldn t wish all Americans ...</td>\n",
              "      <td>News</td>\n",
              "      <td>December 31, 2017</td>\n",
              "    </tr>\n",
              "    <tr>\n",
              "      <th>1</th>\n",
              "      <td>Drunk Bragging Trump Staffer Started Russian C...</td>\n",
              "      <td>Drunk Bragging Trump Staffer Started Russian ...</td>\n",
              "      <td>House Intelligence Committee Chairman Devin Nu...</td>\n",
              "      <td>News</td>\n",
              "      <td>December 31, 2017</td>\n",
              "    </tr>\n",
              "    <tr>\n",
              "      <th>2</th>\n",
              "      <td>Sheriff David Clarke Becomes An Internet Joke ...</td>\n",
              "      <td>Sheriff David Clarke Becomes An Internet Joke...</td>\n",
              "      <td>On Friday, it was revealed that former Milwauk...</td>\n",
              "      <td>News</td>\n",
              "      <td>December 30, 2017</td>\n",
              "    </tr>\n",
              "    <tr>\n",
              "      <th>3</th>\n",
              "      <td>Trump Is So Obsessed He Even Has Obama s Name ...</td>\n",
              "      <td>Trump Is So Obsessed He Even Has Obama’s Name...</td>\n",
              "      <td>On Christmas day, Donald Trump announced that ...</td>\n",
              "      <td>News</td>\n",
              "      <td>December 29, 2017</td>\n",
              "    </tr>\n",
              "    <tr>\n",
              "      <th>4</th>\n",
              "      <td>Pope Francis Just Called Out Donald Trump Duri...</td>\n",
              "      <td>Pope Francis Just Called Out Donald Trump Dur...</td>\n",
              "      <td>Pope Francis used his annual Christmas Day mes...</td>\n",
              "      <td>News</td>\n",
              "      <td>December 25, 2017</td>\n",
              "    </tr>\n",
              "    <tr>\n",
              "      <th>...</th>\n",
              "      <td>...</td>\n",
              "      <td>...</td>\n",
              "      <td>...</td>\n",
              "      <td>...</td>\n",
              "      <td>...</td>\n",
              "    </tr>\n",
              "    <tr>\n",
              "      <th>23476</th>\n",
              "      <td>Mc Pain John Mc Cain Furious That Iran Treated...</td>\n",
              "      <td>McPain: John McCain Furious That Iran Treated ...</td>\n",
              "      <td>21st Century Wire says As 21WIRE reported earl...</td>\n",
              "      <td>Middle-east</td>\n",
              "      <td>January 16, 2016</td>\n",
              "    </tr>\n",
              "    <tr>\n",
              "      <th>23477</th>\n",
              "      <td>JUSTICE Yahoo Settles E mail Privacy Class act...</td>\n",
              "      <td>JUSTICE? Yahoo Settles E-mail Privacy Class-ac...</td>\n",
              "      <td>21st Century Wire says It s a familiar theme. ...</td>\n",
              "      <td>Middle-east</td>\n",
              "      <td>January 16, 2016</td>\n",
              "    </tr>\n",
              "    <tr>\n",
              "      <th>23478</th>\n",
              "      <td>Sunnistan US and Allied Safe Zone Plan to Take...</td>\n",
              "      <td>Sunnistan: US and Allied ‘Safe Zone’ Plan to T...</td>\n",
              "      <td>Patrick Henningsen  21st Century WireRemember ...</td>\n",
              "      <td>Middle-east</td>\n",
              "      <td>January 15, 2016</td>\n",
              "    </tr>\n",
              "    <tr>\n",
              "      <th>23479</th>\n",
              "      <td>How to Blow 700 Million Al Jazeera America Fin...</td>\n",
              "      <td>How to Blow $700 Million: Al Jazeera America F...</td>\n",
              "      <td>21st Century Wire says Al Jazeera America will...</td>\n",
              "      <td>Middle-east</td>\n",
              "      <td>January 14, 2016</td>\n",
              "    </tr>\n",
              "    <tr>\n",
              "      <th>23480</th>\n",
              "      <td>10 United States Navy Sailors Held by Iranian ...</td>\n",
              "      <td>10 U.S. Navy Sailors Held by Iranian Military ...</td>\n",
              "      <td>21st Century Wire says As 21WIRE predicted in ...</td>\n",
              "      <td>Middle-east</td>\n",
              "      <td>January 12, 2016</td>\n",
              "    </tr>\n",
              "  </tbody>\n",
              "</table>\n",
              "<p>23481 rows × 5 columns</p>\n",
              "</div>"
            ],
            "text/plain": [
              "                                             clean_title  ...               date\n",
              "0      Donald Trump Sends Out Embarrassing New Year s...  ...  December 31, 2017\n",
              "1      Drunk Bragging Trump Staffer Started Russian C...  ...  December 31, 2017\n",
              "2      Sheriff David Clarke Becomes An Internet Joke ...  ...  December 30, 2017\n",
              "3      Trump Is So Obsessed He Even Has Obama s Name ...  ...  December 29, 2017\n",
              "4      Pope Francis Just Called Out Donald Trump Duri...  ...  December 25, 2017\n",
              "...                                                  ...  ...                ...\n",
              "23476  Mc Pain John Mc Cain Furious That Iran Treated...  ...   January 16, 2016\n",
              "23477  JUSTICE Yahoo Settles E mail Privacy Class act...  ...   January 16, 2016\n",
              "23478  Sunnistan US and Allied Safe Zone Plan to Take...  ...   January 15, 2016\n",
              "23479  How to Blow 700 Million Al Jazeera America Fin...  ...   January 14, 2016\n",
              "23480  10 United States Navy Sailors Held by Iranian ...  ...   January 12, 2016\n",
              "\n",
              "[23481 rows x 5 columns]"
            ]
          },
          "metadata": {
            "tags": []
          },
          "execution_count": 20
        }
      ]
    },
    {
      "cell_type": "code",
      "metadata": {
        "colab": {
          "base_uri": "https://localhost:8080/",
          "height": 424
        },
        "id": "VSB69yL24GYI",
        "outputId": "22a603ee-0de3-4bab-8488-332d6a767b07"
      },
      "source": [
        "df_fake = df_fake.drop(['title'], axis =1)\n",
        "df_fake = df_fake.rename(columns={'clean_title':'title'})\n",
        "df_fake"
      ],
      "execution_count": null,
      "outputs": [
        {
          "output_type": "execute_result",
          "data": {
            "text/html": [
              "<div>\n",
              "<style scoped>\n",
              "    .dataframe tbody tr th:only-of-type {\n",
              "        vertical-align: middle;\n",
              "    }\n",
              "\n",
              "    .dataframe tbody tr th {\n",
              "        vertical-align: top;\n",
              "    }\n",
              "\n",
              "    .dataframe thead th {\n",
              "        text-align: right;\n",
              "    }\n",
              "</style>\n",
              "<table border=\"1\" class=\"dataframe\">\n",
              "  <thead>\n",
              "    <tr style=\"text-align: right;\">\n",
              "      <th></th>\n",
              "      <th>title</th>\n",
              "      <th>text</th>\n",
              "      <th>subject</th>\n",
              "      <th>date</th>\n",
              "    </tr>\n",
              "  </thead>\n",
              "  <tbody>\n",
              "    <tr>\n",
              "      <th>0</th>\n",
              "      <td>Donald Trump Sends Out Embarrassing New Year s...</td>\n",
              "      <td>Donald Trump just couldn t wish all Americans ...</td>\n",
              "      <td>News</td>\n",
              "      <td>December 31, 2017</td>\n",
              "    </tr>\n",
              "    <tr>\n",
              "      <th>1</th>\n",
              "      <td>Drunk Bragging Trump Staffer Started Russian C...</td>\n",
              "      <td>House Intelligence Committee Chairman Devin Nu...</td>\n",
              "      <td>News</td>\n",
              "      <td>December 31, 2017</td>\n",
              "    </tr>\n",
              "    <tr>\n",
              "      <th>2</th>\n",
              "      <td>Sheriff David Clarke Becomes An Internet Joke ...</td>\n",
              "      <td>On Friday, it was revealed that former Milwauk...</td>\n",
              "      <td>News</td>\n",
              "      <td>December 30, 2017</td>\n",
              "    </tr>\n",
              "    <tr>\n",
              "      <th>3</th>\n",
              "      <td>Trump Is So Obsessed He Even Has Obama s Name ...</td>\n",
              "      <td>On Christmas day, Donald Trump announced that ...</td>\n",
              "      <td>News</td>\n",
              "      <td>December 29, 2017</td>\n",
              "    </tr>\n",
              "    <tr>\n",
              "      <th>4</th>\n",
              "      <td>Pope Francis Just Called Out Donald Trump Duri...</td>\n",
              "      <td>Pope Francis used his annual Christmas Day mes...</td>\n",
              "      <td>News</td>\n",
              "      <td>December 25, 2017</td>\n",
              "    </tr>\n",
              "    <tr>\n",
              "      <th>...</th>\n",
              "      <td>...</td>\n",
              "      <td>...</td>\n",
              "      <td>...</td>\n",
              "      <td>...</td>\n",
              "    </tr>\n",
              "    <tr>\n",
              "      <th>23476</th>\n",
              "      <td>Mc Pain John Mc Cain Furious That Iran Treated...</td>\n",
              "      <td>21st Century Wire says As 21WIRE reported earl...</td>\n",
              "      <td>Middle-east</td>\n",
              "      <td>January 16, 2016</td>\n",
              "    </tr>\n",
              "    <tr>\n",
              "      <th>23477</th>\n",
              "      <td>JUSTICE Yahoo Settles E mail Privacy Class act...</td>\n",
              "      <td>21st Century Wire says It s a familiar theme. ...</td>\n",
              "      <td>Middle-east</td>\n",
              "      <td>January 16, 2016</td>\n",
              "    </tr>\n",
              "    <tr>\n",
              "      <th>23478</th>\n",
              "      <td>Sunnistan US and Allied Safe Zone Plan to Take...</td>\n",
              "      <td>Patrick Henningsen  21st Century WireRemember ...</td>\n",
              "      <td>Middle-east</td>\n",
              "      <td>January 15, 2016</td>\n",
              "    </tr>\n",
              "    <tr>\n",
              "      <th>23479</th>\n",
              "      <td>How to Blow 700 Million Al Jazeera America Fin...</td>\n",
              "      <td>21st Century Wire says Al Jazeera America will...</td>\n",
              "      <td>Middle-east</td>\n",
              "      <td>January 14, 2016</td>\n",
              "    </tr>\n",
              "    <tr>\n",
              "      <th>23480</th>\n",
              "      <td>10 United States Navy Sailors Held by Iranian ...</td>\n",
              "      <td>21st Century Wire says As 21WIRE predicted in ...</td>\n",
              "      <td>Middle-east</td>\n",
              "      <td>January 12, 2016</td>\n",
              "    </tr>\n",
              "  </tbody>\n",
              "</table>\n",
              "<p>23481 rows × 4 columns</p>\n",
              "</div>"
            ],
            "text/plain": [
              "                                                   title  ...               date\n",
              "0      Donald Trump Sends Out Embarrassing New Year s...  ...  December 31, 2017\n",
              "1      Drunk Bragging Trump Staffer Started Russian C...  ...  December 31, 2017\n",
              "2      Sheriff David Clarke Becomes An Internet Joke ...  ...  December 30, 2017\n",
              "3      Trump Is So Obsessed He Even Has Obama s Name ...  ...  December 29, 2017\n",
              "4      Pope Francis Just Called Out Donald Trump Duri...  ...  December 25, 2017\n",
              "...                                                  ...  ...                ...\n",
              "23476  Mc Pain John Mc Cain Furious That Iran Treated...  ...   January 16, 2016\n",
              "23477  JUSTICE Yahoo Settles E mail Privacy Class act...  ...   January 16, 2016\n",
              "23478  Sunnistan US and Allied Safe Zone Plan to Take...  ...   January 15, 2016\n",
              "23479  How to Blow 700 Million Al Jazeera America Fin...  ...   January 14, 2016\n",
              "23480  10 United States Navy Sailors Held by Iranian ...  ...   January 12, 2016\n",
              "\n",
              "[23481 rows x 4 columns]"
            ]
          },
          "metadata": {
            "tags": []
          },
          "execution_count": 21
        }
      ]
    },
    {
      "cell_type": "markdown",
      "metadata": {
        "id": "bN66QZsn3_Ps"
      },
      "source": [
        "### Cleaning true news data"
      ]
    },
    {
      "cell_type": "code",
      "metadata": {
        "colab": {
          "base_uri": "https://localhost:8080/",
          "height": 424
        },
        "id": "FGBcAz7Y3bkS",
        "outputId": "51568746-6589-4294-bb0a-fcf0bede824a"
      },
      "source": [
        "clean_true_df = true_df['title']\n",
        "clean_true_df = clean_comments(clean_true_df)\n",
        "clean_true_df"
      ],
      "execution_count": null,
      "outputs": [
        {
          "output_type": "execute_result",
          "data": {
            "text/html": [
              "<div>\n",
              "<style scoped>\n",
              "    .dataframe tbody tr th:only-of-type {\n",
              "        vertical-align: middle;\n",
              "    }\n",
              "\n",
              "    .dataframe tbody tr th {\n",
              "        vertical-align: top;\n",
              "    }\n",
              "\n",
              "    .dataframe thead th {\n",
              "        text-align: right;\n",
              "    }\n",
              "</style>\n",
              "<table border=\"1\" class=\"dataframe\">\n",
              "  <thead>\n",
              "    <tr style=\"text-align: right;\">\n",
              "      <th></th>\n",
              "      <th>clean_title</th>\n",
              "    </tr>\n",
              "  </thead>\n",
              "  <tbody>\n",
              "    <tr>\n",
              "      <th>0</th>\n",
              "      <td>As United States budget fight looms Republican...</td>\n",
              "    </tr>\n",
              "    <tr>\n",
              "      <th>1</th>\n",
              "      <td>United States military to accept transgender r...</td>\n",
              "    </tr>\n",
              "    <tr>\n",
              "      <th>2</th>\n",
              "      <td>Senior United States Republican senator Let Mr...</td>\n",
              "    </tr>\n",
              "    <tr>\n",
              "      <th>3</th>\n",
              "      <td>FBI Russia probe helped by Australian diplomat...</td>\n",
              "    </tr>\n",
              "    <tr>\n",
              "      <th>4</th>\n",
              "      <td>Trump wants Postal Service to charge much more...</td>\n",
              "    </tr>\n",
              "    <tr>\n",
              "      <th>...</th>\n",
              "      <td>...</td>\n",
              "    </tr>\n",
              "    <tr>\n",
              "      <th>21412</th>\n",
              "      <td>Fully committed NATO backs new United States a...</td>\n",
              "    </tr>\n",
              "    <tr>\n",
              "      <th>21413</th>\n",
              "      <td>Lexis Nexis withdrew two products from Chinese...</td>\n",
              "    </tr>\n",
              "    <tr>\n",
              "      <th>21414</th>\n",
              "      <td>Minsk cultural hub becomes haven from authorities</td>\n",
              "    </tr>\n",
              "    <tr>\n",
              "      <th>21415</th>\n",
              "      <td>Vatican upbeat on possibility of Pope Francis ...</td>\n",
              "    </tr>\n",
              "    <tr>\n",
              "      <th>21416</th>\n",
              "      <td>Indonesia to buy 1 14 billion worth of Russian...</td>\n",
              "    </tr>\n",
              "  </tbody>\n",
              "</table>\n",
              "<p>21417 rows × 1 columns</p>\n",
              "</div>"
            ],
            "text/plain": [
              "                                             clean_title\n",
              "0      As United States budget fight looms Republican...\n",
              "1      United States military to accept transgender r...\n",
              "2      Senior United States Republican senator Let Mr...\n",
              "3      FBI Russia probe helped by Australian diplomat...\n",
              "4      Trump wants Postal Service to charge much more...\n",
              "...                                                  ...\n",
              "21412  Fully committed NATO backs new United States a...\n",
              "21413  Lexis Nexis withdrew two products from Chinese...\n",
              "21414  Minsk cultural hub becomes haven from authorities\n",
              "21415  Vatican upbeat on possibility of Pope Francis ...\n",
              "21416  Indonesia to buy 1 14 billion worth of Russian...\n",
              "\n",
              "[21417 rows x 1 columns]"
            ]
          },
          "metadata": {
            "tags": []
          },
          "execution_count": 22
        }
      ]
    },
    {
      "cell_type": "code",
      "metadata": {
        "colab": {
          "base_uri": "https://localhost:8080/",
          "height": 424
        },
        "id": "lixwyNCL3lSi",
        "outputId": "f1e04b15-4252-45cc-9daf-29d7c8340a04"
      },
      "source": [
        "df_true = pd.concat([clean_true_df, true_df], axis =1)\n",
        "df_true"
      ],
      "execution_count": null,
      "outputs": [
        {
          "output_type": "execute_result",
          "data": {
            "text/html": [
              "<div>\n",
              "<style scoped>\n",
              "    .dataframe tbody tr th:only-of-type {\n",
              "        vertical-align: middle;\n",
              "    }\n",
              "\n",
              "    .dataframe tbody tr th {\n",
              "        vertical-align: top;\n",
              "    }\n",
              "\n",
              "    .dataframe thead th {\n",
              "        text-align: right;\n",
              "    }\n",
              "</style>\n",
              "<table border=\"1\" class=\"dataframe\">\n",
              "  <thead>\n",
              "    <tr style=\"text-align: right;\">\n",
              "      <th></th>\n",
              "      <th>clean_title</th>\n",
              "      <th>title</th>\n",
              "      <th>text</th>\n",
              "      <th>subject</th>\n",
              "      <th>date</th>\n",
              "    </tr>\n",
              "  </thead>\n",
              "  <tbody>\n",
              "    <tr>\n",
              "      <th>0</th>\n",
              "      <td>As United States budget fight looms Republican...</td>\n",
              "      <td>As U.S. budget fight looms, Republicans flip t...</td>\n",
              "      <td>WASHINGTON (Reuters) - The head of a conservat...</td>\n",
              "      <td>politicsNews</td>\n",
              "      <td>December 31, 2017</td>\n",
              "    </tr>\n",
              "    <tr>\n",
              "      <th>1</th>\n",
              "      <td>United States military to accept transgender r...</td>\n",
              "      <td>U.S. military to accept transgender recruits o...</td>\n",
              "      <td>WASHINGTON (Reuters) - Transgender people will...</td>\n",
              "      <td>politicsNews</td>\n",
              "      <td>December 29, 2017</td>\n",
              "    </tr>\n",
              "    <tr>\n",
              "      <th>2</th>\n",
              "      <td>Senior United States Republican senator Let Mr...</td>\n",
              "      <td>Senior U.S. Republican senator: 'Let Mr. Muell...</td>\n",
              "      <td>WASHINGTON (Reuters) - The special counsel inv...</td>\n",
              "      <td>politicsNews</td>\n",
              "      <td>December 31, 2017</td>\n",
              "    </tr>\n",
              "    <tr>\n",
              "      <th>3</th>\n",
              "      <td>FBI Russia probe helped by Australian diplomat...</td>\n",
              "      <td>FBI Russia probe helped by Australian diplomat...</td>\n",
              "      <td>WASHINGTON (Reuters) - Trump campaign adviser ...</td>\n",
              "      <td>politicsNews</td>\n",
              "      <td>December 30, 2017</td>\n",
              "    </tr>\n",
              "    <tr>\n",
              "      <th>4</th>\n",
              "      <td>Trump wants Postal Service to charge much more...</td>\n",
              "      <td>Trump wants Postal Service to charge 'much mor...</td>\n",
              "      <td>SEATTLE/WASHINGTON (Reuters) - President Donal...</td>\n",
              "      <td>politicsNews</td>\n",
              "      <td>December 29, 2017</td>\n",
              "    </tr>\n",
              "    <tr>\n",
              "      <th>...</th>\n",
              "      <td>...</td>\n",
              "      <td>...</td>\n",
              "      <td>...</td>\n",
              "      <td>...</td>\n",
              "      <td>...</td>\n",
              "    </tr>\n",
              "    <tr>\n",
              "      <th>21412</th>\n",
              "      <td>Fully committed NATO backs new United States a...</td>\n",
              "      <td>'Fully committed' NATO backs new U.S. approach...</td>\n",
              "      <td>BRUSSELS (Reuters) - NATO allies on Tuesday we...</td>\n",
              "      <td>worldnews</td>\n",
              "      <td>August 22, 2017</td>\n",
              "    </tr>\n",
              "    <tr>\n",
              "      <th>21413</th>\n",
              "      <td>Lexis Nexis withdrew two products from Chinese...</td>\n",
              "      <td>LexisNexis withdrew two products from Chinese ...</td>\n",
              "      <td>LONDON (Reuters) - LexisNexis, a provider of l...</td>\n",
              "      <td>worldnews</td>\n",
              "      <td>August 22, 2017</td>\n",
              "    </tr>\n",
              "    <tr>\n",
              "      <th>21414</th>\n",
              "      <td>Minsk cultural hub becomes haven from authorities</td>\n",
              "      <td>Minsk cultural hub becomes haven from authorities</td>\n",
              "      <td>MINSK (Reuters) - In the shadow of disused Sov...</td>\n",
              "      <td>worldnews</td>\n",
              "      <td>August 22, 2017</td>\n",
              "    </tr>\n",
              "    <tr>\n",
              "      <th>21415</th>\n",
              "      <td>Vatican upbeat on possibility of Pope Francis ...</td>\n",
              "      <td>Vatican upbeat on possibility of Pope Francis ...</td>\n",
              "      <td>MOSCOW (Reuters) - Vatican Secretary of State ...</td>\n",
              "      <td>worldnews</td>\n",
              "      <td>August 22, 2017</td>\n",
              "    </tr>\n",
              "    <tr>\n",
              "      <th>21416</th>\n",
              "      <td>Indonesia to buy 1 14 billion worth of Russian...</td>\n",
              "      <td>Indonesia to buy $1.14 billion worth of Russia...</td>\n",
              "      <td>JAKARTA (Reuters) - Indonesia will buy 11 Sukh...</td>\n",
              "      <td>worldnews</td>\n",
              "      <td>August 22, 2017</td>\n",
              "    </tr>\n",
              "  </tbody>\n",
              "</table>\n",
              "<p>21417 rows × 5 columns</p>\n",
              "</div>"
            ],
            "text/plain": [
              "                                             clean_title  ...                date\n",
              "0      As United States budget fight looms Republican...  ...  December 31, 2017 \n",
              "1      United States military to accept transgender r...  ...  December 29, 2017 \n",
              "2      Senior United States Republican senator Let Mr...  ...  December 31, 2017 \n",
              "3      FBI Russia probe helped by Australian diplomat...  ...  December 30, 2017 \n",
              "4      Trump wants Postal Service to charge much more...  ...  December 29, 2017 \n",
              "...                                                  ...  ...                 ...\n",
              "21412  Fully committed NATO backs new United States a...  ...    August 22, 2017 \n",
              "21413  Lexis Nexis withdrew two products from Chinese...  ...    August 22, 2017 \n",
              "21414  Minsk cultural hub becomes haven from authorities  ...    August 22, 2017 \n",
              "21415  Vatican upbeat on possibility of Pope Francis ...  ...    August 22, 2017 \n",
              "21416  Indonesia to buy 1 14 billion worth of Russian...  ...    August 22, 2017 \n",
              "\n",
              "[21417 rows x 5 columns]"
            ]
          },
          "metadata": {
            "tags": []
          },
          "execution_count": 23
        }
      ]
    },
    {
      "cell_type": "code",
      "metadata": {
        "colab": {
          "base_uri": "https://localhost:8080/",
          "height": 424
        },
        "id": "Ai4R0feu4qpY",
        "outputId": "934c4419-4902-4401-a4e7-3306e4ea7db4"
      },
      "source": [
        "df_true = df_true.drop(['title'], axis =1)\n",
        "df_true = df_true.rename(columns={'clean_title':'title'})\n",
        "df_true"
      ],
      "execution_count": null,
      "outputs": [
        {
          "output_type": "execute_result",
          "data": {
            "text/html": [
              "<div>\n",
              "<style scoped>\n",
              "    .dataframe tbody tr th:only-of-type {\n",
              "        vertical-align: middle;\n",
              "    }\n",
              "\n",
              "    .dataframe tbody tr th {\n",
              "        vertical-align: top;\n",
              "    }\n",
              "\n",
              "    .dataframe thead th {\n",
              "        text-align: right;\n",
              "    }\n",
              "</style>\n",
              "<table border=\"1\" class=\"dataframe\">\n",
              "  <thead>\n",
              "    <tr style=\"text-align: right;\">\n",
              "      <th></th>\n",
              "      <th>title</th>\n",
              "      <th>text</th>\n",
              "      <th>subject</th>\n",
              "      <th>date</th>\n",
              "    </tr>\n",
              "  </thead>\n",
              "  <tbody>\n",
              "    <tr>\n",
              "      <th>0</th>\n",
              "      <td>As United States budget fight looms Republican...</td>\n",
              "      <td>WASHINGTON (Reuters) - The head of a conservat...</td>\n",
              "      <td>politicsNews</td>\n",
              "      <td>December 31, 2017</td>\n",
              "    </tr>\n",
              "    <tr>\n",
              "      <th>1</th>\n",
              "      <td>United States military to accept transgender r...</td>\n",
              "      <td>WASHINGTON (Reuters) - Transgender people will...</td>\n",
              "      <td>politicsNews</td>\n",
              "      <td>December 29, 2017</td>\n",
              "    </tr>\n",
              "    <tr>\n",
              "      <th>2</th>\n",
              "      <td>Senior United States Republican senator Let Mr...</td>\n",
              "      <td>WASHINGTON (Reuters) - The special counsel inv...</td>\n",
              "      <td>politicsNews</td>\n",
              "      <td>December 31, 2017</td>\n",
              "    </tr>\n",
              "    <tr>\n",
              "      <th>3</th>\n",
              "      <td>FBI Russia probe helped by Australian diplomat...</td>\n",
              "      <td>WASHINGTON (Reuters) - Trump campaign adviser ...</td>\n",
              "      <td>politicsNews</td>\n",
              "      <td>December 30, 2017</td>\n",
              "    </tr>\n",
              "    <tr>\n",
              "      <th>4</th>\n",
              "      <td>Trump wants Postal Service to charge much more...</td>\n",
              "      <td>SEATTLE/WASHINGTON (Reuters) - President Donal...</td>\n",
              "      <td>politicsNews</td>\n",
              "      <td>December 29, 2017</td>\n",
              "    </tr>\n",
              "    <tr>\n",
              "      <th>...</th>\n",
              "      <td>...</td>\n",
              "      <td>...</td>\n",
              "      <td>...</td>\n",
              "      <td>...</td>\n",
              "    </tr>\n",
              "    <tr>\n",
              "      <th>21412</th>\n",
              "      <td>Fully committed NATO backs new United States a...</td>\n",
              "      <td>BRUSSELS (Reuters) - NATO allies on Tuesday we...</td>\n",
              "      <td>worldnews</td>\n",
              "      <td>August 22, 2017</td>\n",
              "    </tr>\n",
              "    <tr>\n",
              "      <th>21413</th>\n",
              "      <td>Lexis Nexis withdrew two products from Chinese...</td>\n",
              "      <td>LONDON (Reuters) - LexisNexis, a provider of l...</td>\n",
              "      <td>worldnews</td>\n",
              "      <td>August 22, 2017</td>\n",
              "    </tr>\n",
              "    <tr>\n",
              "      <th>21414</th>\n",
              "      <td>Minsk cultural hub becomes haven from authorities</td>\n",
              "      <td>MINSK (Reuters) - In the shadow of disused Sov...</td>\n",
              "      <td>worldnews</td>\n",
              "      <td>August 22, 2017</td>\n",
              "    </tr>\n",
              "    <tr>\n",
              "      <th>21415</th>\n",
              "      <td>Vatican upbeat on possibility of Pope Francis ...</td>\n",
              "      <td>MOSCOW (Reuters) - Vatican Secretary of State ...</td>\n",
              "      <td>worldnews</td>\n",
              "      <td>August 22, 2017</td>\n",
              "    </tr>\n",
              "    <tr>\n",
              "      <th>21416</th>\n",
              "      <td>Indonesia to buy 1 14 billion worth of Russian...</td>\n",
              "      <td>JAKARTA (Reuters) - Indonesia will buy 11 Sukh...</td>\n",
              "      <td>worldnews</td>\n",
              "      <td>August 22, 2017</td>\n",
              "    </tr>\n",
              "  </tbody>\n",
              "</table>\n",
              "<p>21417 rows × 4 columns</p>\n",
              "</div>"
            ],
            "text/plain": [
              "                                                   title  ...                date\n",
              "0      As United States budget fight looms Republican...  ...  December 31, 2017 \n",
              "1      United States military to accept transgender r...  ...  December 29, 2017 \n",
              "2      Senior United States Republican senator Let Mr...  ...  December 31, 2017 \n",
              "3      FBI Russia probe helped by Australian diplomat...  ...  December 30, 2017 \n",
              "4      Trump wants Postal Service to charge much more...  ...  December 29, 2017 \n",
              "...                                                  ...  ...                 ...\n",
              "21412  Fully committed NATO backs new United States a...  ...    August 22, 2017 \n",
              "21413  Lexis Nexis withdrew two products from Chinese...  ...    August 22, 2017 \n",
              "21414  Minsk cultural hub becomes haven from authorities  ...    August 22, 2017 \n",
              "21415  Vatican upbeat on possibility of Pope Francis ...  ...    August 22, 2017 \n",
              "21416  Indonesia to buy 1 14 billion worth of Russian...  ...    August 22, 2017 \n",
              "\n",
              "[21417 rows x 4 columns]"
            ]
          },
          "metadata": {
            "tags": []
          },
          "execution_count": 24
        }
      ]
    },
    {
      "cell_type": "markdown",
      "metadata": {
        "id": "NIQgWORnaKel"
      },
      "source": [
        "# Sentiment Analysis"
      ]
    },
    {
      "cell_type": "code",
      "metadata": {
        "colab": {
          "base_uri": "https://localhost:8080/"
        },
        "id": "qN-rCyHlYptq",
        "outputId": "bb41415a-98a1-4385-fb14-3042f9220024"
      },
      "source": [
        "#import natural language toolkit\n",
        "import nltk\n",
        "from nltk.corpus import stopwords\n",
        "from nltk.stem import PorterStemmer\n",
        "ps = PorterStemmer()\n",
        "from nltk.sentiment.vader import SentimentIntensityAnalyzer \n",
        "from nltk.probability import FreqDist\n",
        "import string\n",
        "\n",
        "# get lexicon \n",
        "nltk.download('vader_lexicon') \n",
        "nltk.download('punkt')\n",
        "nltk.download('stopwords')\n",
        "\n",
        "analyser = SentimentIntensityAnalyzer()\n",
        "\n",
        "\n",
        "## import word tokenizer\n",
        "from nltk.tokenize import word_tokenize\n",
        "from nltk.sentiment.vader import SentimentIntensityAnalyzer "
      ],
      "execution_count": null,
      "outputs": [
        {
          "output_type": "stream",
          "text": [
            "/usr/local/lib/python3.7/dist-packages/nltk/twitter/__init__.py:20: UserWarning: The twython library has not been installed. Some functionality from the twitter package will not be available.\n",
            "  warnings.warn(\"The twython library has not been installed. \"\n"
          ],
          "name": "stderr"
        },
        {
          "output_type": "stream",
          "text": [
            "[nltk_data] Downloading package vader_lexicon to /root/nltk_data...\n",
            "[nltk_data] Downloading package punkt to /root/nltk_data...\n",
            "[nltk_data]   Unzipping tokenizers/punkt.zip.\n",
            "[nltk_data] Downloading package stopwords to /root/nltk_data...\n",
            "[nltk_data]   Unzipping corpora/stopwords.zip.\n"
          ],
          "name": "stdout"
        }
      ]
    },
    {
      "cell_type": "code",
      "metadata": {
        "id": "afvSadzPeW4T"
      },
      "source": [
        "# create function that will output dataframe \n",
        "# that stores sentiment information\n",
        "def get_sentiments(input_list):\n",
        "    \"\"\"\n",
        "    output dataframe that stores sentiment information\n",
        "    \"\"\"\n",
        "    output = pd.DataFrame()\n",
        "    \n",
        "    for sentence in input_list:\n",
        "        ss = analyser.polarity_scores(sentence)\n",
        "        ss['sentence'] = sentence\n",
        "        output = output.append(ss, ignore_index=True)\n",
        "\n",
        "    return output"
      ],
      "execution_count": null,
      "outputs": []
    },
    {
      "cell_type": "markdown",
      "metadata": {
        "id": "l6KeG5B2eUNu"
      },
      "source": [
        "## True Data *Titles*"
      ]
    },
    {
      "cell_type": "code",
      "metadata": {
        "id": "xx19OzyQabGi"
      },
      "source": [
        "#specify dataframe here\n",
        "nltk_data = df_true\n",
        "\n",
        "# tokenize, stem, and remove stop words\n",
        "nltk_data['token'] = nltk_data['title'].apply(word_tokenize)\n",
        "#stop_words = set(stopwords.words('english'))\n",
        "stop_words = set(stopwords.words('english') + [punc for punc in string.punctuation])\n",
        "nltk_data['stop'] = nltk_data['token'].apply(lambda x: [item for item in x if item not in stop_words])\n",
        "nltk_data['stem'] = nltk_data['stop'].apply(lambda x: [ps.stem(y) for y in x])\n",
        "stem_nltk_data = nltk_data['stem'].apply(pd.Series).stack()\n",
        "\n",
        "# calculate word frequency\n",
        "fdist_nltk_data = FreqDist(stem_nltk_data)\n",
        "\n",
        "# remove punctuation counts\n",
        "for punc in string.punctuation:\n",
        "    del fdist_nltk_data[punc]\n",
        "\n",
        "# get list of the 'content' (responses) \n",
        "nltk_data_list = list(nltk_data['title'].values)"
      ],
      "execution_count": null,
      "outputs": []
    },
    {
      "cell_type": "code",
      "metadata": {
        "colab": {
          "base_uri": "https://localhost:8080/",
          "height": 322
        },
        "id": "6Eso6RsMbDjW",
        "outputId": "5d758f86-3d31-4e99-f5fb-cc1264c0a2c6"
      },
      "source": [
        "# Frequency Distribution Plot - top 20\n",
        "fdist_nltk_data.plot(20, cumulative=False);"
      ],
      "execution_count": null,
      "outputs": [
        {
          "output_type": "display_data",
          "data": {
            "image/png": "[encoded data removed]",
            "text/plain": [
              "<Figure size 432x288 with 1 Axes>"
            ]
          },
          "metadata": {
            "tags": [],
            "needs_background": "light"
          }
        }
      ]
    },
    {
      "cell_type": "code",
      "metadata": {
        "colab": {
          "base_uri": "https://localhost:8080/",
          "height": 206
        },
        "id": "b3Pql4VxbKqm",
        "outputId": "e0d3d743-77ce-44c3-840f-e75d7fe660c6"
      },
      "source": [
        "# use the get sentiments function on nltk processed true data\n",
        "nltk_data_sentiments = get_sentiments(nltk_data_list)\n",
        "nltk_data_sentiments.head()"
      ],
      "execution_count": null,
      "outputs": [
        {
          "output_type": "execute_result",
          "data": {
            "text/html": [
              "<div>\n",
              "<style scoped>\n",
              "    .dataframe tbody tr th:only-of-type {\n",
              "        vertical-align: middle;\n",
              "    }\n",
              "\n",
              "    .dataframe tbody tr th {\n",
              "        vertical-align: top;\n",
              "    }\n",
              "\n",
              "    .dataframe thead th {\n",
              "        text-align: right;\n",
              "    }\n",
              "</style>\n",
              "<table border=\"1\" class=\"dataframe\">\n",
              "  <thead>\n",
              "    <tr style=\"text-align: right;\">\n",
              "      <th></th>\n",
              "      <th>compound</th>\n",
              "      <th>neg</th>\n",
              "      <th>neu</th>\n",
              "      <th>pos</th>\n",
              "      <th>sentence</th>\n",
              "    </tr>\n",
              "  </thead>\n",
              "  <tbody>\n",
              "    <tr>\n",
              "      <th>0</th>\n",
              "      <td>-0.1027</td>\n",
              "      <td>0.28</td>\n",
              "      <td>0.533</td>\n",
              "      <td>0.187</td>\n",
              "      <td>As United States budget fight looms Republican...</td>\n",
              "    </tr>\n",
              "    <tr>\n",
              "      <th>1</th>\n",
              "      <td>0.6597</td>\n",
              "      <td>0.00</td>\n",
              "      <td>0.597</td>\n",
              "      <td>0.403</td>\n",
              "      <td>United States military to accept transgender r...</td>\n",
              "    </tr>\n",
              "    <tr>\n",
              "      <th>2</th>\n",
              "      <td>0.4215</td>\n",
              "      <td>0.00</td>\n",
              "      <td>0.781</td>\n",
              "      <td>0.219</td>\n",
              "      <td>Senior United States Republican senator Let Mr...</td>\n",
              "    </tr>\n",
              "    <tr>\n",
              "      <th>3</th>\n",
              "      <td>0.0000</td>\n",
              "      <td>0.00</td>\n",
              "      <td>1.000</td>\n",
              "      <td>0.000</td>\n",
              "      <td>FBI Russia probe helped by Australian diplomat...</td>\n",
              "    </tr>\n",
              "    <tr>\n",
              "      <th>4</th>\n",
              "      <td>0.2449</td>\n",
              "      <td>0.00</td>\n",
              "      <td>0.835</td>\n",
              "      <td>0.165</td>\n",
              "      <td>Trump wants Postal Service to charge much more...</td>\n",
              "    </tr>\n",
              "  </tbody>\n",
              "</table>\n",
              "</div>"
            ],
            "text/plain": [
              "   compound   neg  ...    pos                                           sentence\n",
              "0   -0.1027  0.28  ...  0.187  As United States budget fight looms Republican...\n",
              "1    0.6597  0.00  ...  0.403  United States military to accept transgender r...\n",
              "2    0.4215  0.00  ...  0.219  Senior United States Republican senator Let Mr...\n",
              "3    0.0000  0.00  ...  0.000  FBI Russia probe helped by Australian diplomat...\n",
              "4    0.2449  0.00  ...  0.165  Trump wants Postal Service to charge much more...\n",
              "\n",
              "[5 rows x 5 columns]"
            ]
          },
          "metadata": {
            "tags": []
          },
          "execution_count": 29
        }
      ]
    },
    {
      "cell_type": "markdown",
      "metadata": {
        "id": "4-Q9JsvccQUl"
      },
      "source": [
        "**Note**: This is the sentiment for the titles only! "
      ]
    },
    {
      "cell_type": "code",
      "metadata": {
        "colab": {
          "base_uri": "https://localhost:8080/",
          "height": 293
        },
        "id": "lpqY82JebMtD",
        "outputId": "61487ea8-1883-405f-9e5b-93d159f0b3ca"
      },
      "source": [
        "# drop token and stop columns for nltk data and create pos, neg, neu, compound columns\n",
        "# nltk_data_sent = nltk_data.drop(['token','stop'],axis=1)\\\n",
        "nltk_data_sent = nltk_data.assign(pos=nltk_data_sentiments['pos'])\\\n",
        ".assign(neg=nltk_data_sentiments['neg'])\\\n",
        ".assign(neu=nltk_data_sentiments['neu'])\\\n",
        ".assign(compound=nltk_data_sentiments['compound'])\n",
        "\n",
        "true_sentiments = nltk_data_sent\n",
        "true_sentiments.head()"
      ],
      "execution_count": null,
      "outputs": [
        {
          "output_type": "execute_result",
          "data": {
            "text/html": [
              "<div>\n",
              "<style scoped>\n",
              "    .dataframe tbody tr th:only-of-type {\n",
              "        vertical-align: middle;\n",
              "    }\n",
              "\n",
              "    .dataframe tbody tr th {\n",
              "        vertical-align: top;\n",
              "    }\n",
              "\n",
              "    .dataframe thead th {\n",
              "        text-align: right;\n",
              "    }\n",
              "</style>\n",
              "<table border=\"1\" class=\"dataframe\">\n",
              "  <thead>\n",
              "    <tr style=\"text-align: right;\">\n",
              "      <th></th>\n",
              "      <th>title</th>\n",
              "      <th>text</th>\n",
              "      <th>subject</th>\n",
              "      <th>date</th>\n",
              "      <th>token</th>\n",
              "      <th>stop</th>\n",
              "      <th>stem</th>\n",
              "      <th>pos</th>\n",
              "      <th>neg</th>\n",
              "      <th>neu</th>\n",
              "      <th>compound</th>\n",
              "    </tr>\n",
              "  </thead>\n",
              "  <tbody>\n",
              "    <tr>\n",
              "      <th>0</th>\n",
              "      <td>As United States budget fight looms Republican...</td>\n",
              "      <td>WASHINGTON (Reuters) - The head of a conservat...</td>\n",
              "      <td>politicsNews</td>\n",
              "      <td>December 31, 2017</td>\n",
              "      <td>[As, United, States, budget, fight, looms, Rep...</td>\n",
              "      <td>[As, United, States, budget, fight, looms, Rep...</td>\n",
              "      <td>[As, unit, state, budget, fight, loom, republi...</td>\n",
              "      <td>0.187</td>\n",
              "      <td>0.28</td>\n",
              "      <td>0.533</td>\n",
              "      <td>-0.1027</td>\n",
              "    </tr>\n",
              "    <tr>\n",
              "      <th>1</th>\n",
              "      <td>United States military to accept transgender r...</td>\n",
              "      <td>WASHINGTON (Reuters) - Transgender people will...</td>\n",
              "      <td>politicsNews</td>\n",
              "      <td>December 29, 2017</td>\n",
              "      <td>[United, States, military, to, accept, transge...</td>\n",
              "      <td>[United, States, military, accept, transgender...</td>\n",
              "      <td>[unit, state, militari, accept, transgend, rec...</td>\n",
              "      <td>0.403</td>\n",
              "      <td>0.00</td>\n",
              "      <td>0.597</td>\n",
              "      <td>0.6597</td>\n",
              "    </tr>\n",
              "    <tr>\n",
              "      <th>2</th>\n",
              "      <td>Senior United States Republican senator Let Mr...</td>\n",
              "      <td>WASHINGTON (Reuters) - The special counsel inv...</td>\n",
              "      <td>politicsNews</td>\n",
              "      <td>December 31, 2017</td>\n",
              "      <td>[Senior, United, States, Republican, senator, ...</td>\n",
              "      <td>[Senior, United, States, Republican, senator, ...</td>\n",
              "      <td>[senior, unit, state, republican, senat, let, ...</td>\n",
              "      <td>0.219</td>\n",
              "      <td>0.00</td>\n",
              "      <td>0.781</td>\n",
              "      <td>0.4215</td>\n",
              "    </tr>\n",
              "    <tr>\n",
              "      <th>3</th>\n",
              "      <td>FBI Russia probe helped by Australian diplomat...</td>\n",
              "      <td>WASHINGTON (Reuters) - Trump campaign adviser ...</td>\n",
              "      <td>politicsNews</td>\n",
              "      <td>December 30, 2017</td>\n",
              "      <td>[FBI, Russia, probe, helped, by, Australian, d...</td>\n",
              "      <td>[FBI, Russia, probe, helped, Australian, diplo...</td>\n",
              "      <td>[fbi, russia, probe, help, australian, diploma...</td>\n",
              "      <td>0.000</td>\n",
              "      <td>0.00</td>\n",
              "      <td>1.000</td>\n",
              "      <td>0.0000</td>\n",
              "    </tr>\n",
              "    <tr>\n",
              "      <th>4</th>\n",
              "      <td>Trump wants Postal Service to charge much more...</td>\n",
              "      <td>SEATTLE/WASHINGTON (Reuters) - President Donal...</td>\n",
              "      <td>politicsNews</td>\n",
              "      <td>December 29, 2017</td>\n",
              "      <td>[Trump, wants, Postal, Service, to, charge, mu...</td>\n",
              "      <td>[Trump, wants, Postal, Service, charge, much, ...</td>\n",
              "      <td>[trump, want, postal, servic, charg, much, ama...</td>\n",
              "      <td>0.165</td>\n",
              "      <td>0.00</td>\n",
              "      <td>0.835</td>\n",
              "      <td>0.2449</td>\n",
              "    </tr>\n",
              "  </tbody>\n",
              "</table>\n",
              "</div>"
            ],
            "text/plain": [
              "                                               title  ... compound\n",
              "0  As United States budget fight looms Republican...  ...  -0.1027\n",
              "1  United States military to accept transgender r...  ...   0.6597\n",
              "2  Senior United States Republican senator Let Mr...  ...   0.4215\n",
              "3  FBI Russia probe helped by Australian diplomat...  ...   0.0000\n",
              "4  Trump wants Postal Service to charge much more...  ...   0.2449\n",
              "\n",
              "[5 rows x 11 columns]"
            ]
          },
          "metadata": {
            "tags": []
          },
          "execution_count": 30
        }
      ]
    },
    {
      "cell_type": "markdown",
      "metadata": {
        "id": "yKYbeYGCcYKd"
      },
      "source": [
        "## Fake Data *Titles*"
      ]
    },
    {
      "cell_type": "code",
      "metadata": {
        "id": "BKDdLbehcbSP"
      },
      "source": [
        "#specify dataframe here\n",
        "nltk_data = df_fake\n",
        "\n",
        "# tokenize, stem, and remove stop words\n",
        "nltk_data['token'] = nltk_data['title'].apply(word_tokenize)\n",
        "#stop_words = set(stopwords.words('english'))\n",
        "stop_words = set(stopwords.words('english') + [punc for punc in string.punctuation])\n",
        "nltk_data['stop'] = nltk_data['token'].apply(lambda x: [item for item in x if item not in stop_words])\n",
        "nltk_data['stem'] = nltk_data['stop'].apply(lambda x: [ps.stem(y) for y in x])\n",
        "stem_nltk_data = nltk_data['stem'].apply(pd.Series).stack()\n",
        "\n",
        "# calculate word frequency\n",
        "fdist_nltk_data = FreqDist(stem_nltk_data)\n",
        "\n",
        "# remove punctuation counts\n",
        "#for punc in string.punctuation:\n",
        "#    del fdist_nltk_data[punc]\n",
        "\n",
        "# get list of the 'content' (responses) \n",
        "nltk_data_list = list(nltk_data['title'].values)"
      ],
      "execution_count": null,
      "outputs": []
    },
    {
      "cell_type": "code",
      "metadata": {
        "id": "mPJv1M-WcgPd",
        "colab": {
          "base_uri": "https://localhost:8080/",
          "height": 303
        },
        "outputId": "74cf43b4-2e5b-4962-f3da-d1f2d828dfd3"
      },
      "source": [
        "# Frequency Distribution Plot - top 20\n",
        "fdist_nltk_data.plot(20, cumulative=False);"
      ],
      "execution_count": null,
      "outputs": [
        {
          "output_type": "display_data",
          "data": {
            "image/png": "[encoded data removed]",
            "text/plain": [
              "<Figure size 432x288 with 1 Axes>"
            ]
          },
          "metadata": {
            "tags": [],
            "needs_background": "light"
          }
        }
      ]
    },
    {
      "cell_type": "code",
      "metadata": {
        "id": "ADnKX6P4cjHq",
        "colab": {
          "base_uri": "https://localhost:8080/",
          "height": 206
        },
        "outputId": "489529f3-6fff-460c-b952-5e2b9ec7b57f"
      },
      "source": [
        "# use the get sentiments function on nltk processed true data\n",
        "nltk_data_sentiments = get_sentiments(nltk_data_list)\n",
        "nltk_data_sentiments.head()"
      ],
      "execution_count": null,
      "outputs": [
        {
          "output_type": "execute_result",
          "data": {
            "text/html": [
              "<div>\n",
              "<style scoped>\n",
              "    .dataframe tbody tr th:only-of-type {\n",
              "        vertical-align: middle;\n",
              "    }\n",
              "\n",
              "    .dataframe tbody tr th {\n",
              "        vertical-align: top;\n",
              "    }\n",
              "\n",
              "    .dataframe thead th {\n",
              "        text-align: right;\n",
              "    }\n",
              "</style>\n",
              "<table border=\"1\" class=\"dataframe\">\n",
              "  <thead>\n",
              "    <tr style=\"text-align: right;\">\n",
              "      <th></th>\n",
              "      <th>compound</th>\n",
              "      <th>neg</th>\n",
              "      <th>neu</th>\n",
              "      <th>pos</th>\n",
              "      <th>sentence</th>\n",
              "    </tr>\n",
              "  </thead>\n",
              "  <tbody>\n",
              "    <tr>\n",
              "      <th>0</th>\n",
              "      <td>-0.7096</td>\n",
              "      <td>0.371</td>\n",
              "      <td>0.629</td>\n",
              "      <td>0.000</td>\n",
              "      <td>Donald Trump Sends Out Embarrassing New Year s...</td>\n",
              "    </tr>\n",
              "    <tr>\n",
              "      <th>1</th>\n",
              "      <td>-0.3400</td>\n",
              "      <td>0.255</td>\n",
              "      <td>0.745</td>\n",
              "      <td>0.000</td>\n",
              "      <td>Drunk Bragging Trump Staffer Started Russian C...</td>\n",
              "    </tr>\n",
              "    <tr>\n",
              "      <th>2</th>\n",
              "      <td>-0.2960</td>\n",
              "      <td>0.183</td>\n",
              "      <td>0.699</td>\n",
              "      <td>0.118</td>\n",
              "      <td>Sheriff David Clarke Becomes An Internet Joke ...</td>\n",
              "    </tr>\n",
              "    <tr>\n",
              "      <th>3</th>\n",
              "      <td>-0.2484</td>\n",
              "      <td>0.133</td>\n",
              "      <td>0.867</td>\n",
              "      <td>0.000</td>\n",
              "      <td>Trump Is So Obsessed He Even Has Obama s Name ...</td>\n",
              "    </tr>\n",
              "    <tr>\n",
              "      <th>4</th>\n",
              "      <td>0.0000</td>\n",
              "      <td>0.000</td>\n",
              "      <td>1.000</td>\n",
              "      <td>0.000</td>\n",
              "      <td>Pope Francis Just Called Out Donald Trump Duri...</td>\n",
              "    </tr>\n",
              "  </tbody>\n",
              "</table>\n",
              "</div>"
            ],
            "text/plain": [
              "   compound    neg  ...    pos                                           sentence\n",
              "0   -0.7096  0.371  ...  0.000  Donald Trump Sends Out Embarrassing New Year s...\n",
              "1   -0.3400  0.255  ...  0.000  Drunk Bragging Trump Staffer Started Russian C...\n",
              "2   -0.2960  0.183  ...  0.118  Sheriff David Clarke Becomes An Internet Joke ...\n",
              "3   -0.2484  0.133  ...  0.000  Trump Is So Obsessed He Even Has Obama s Name ...\n",
              "4    0.0000  0.000  ...  0.000  Pope Francis Just Called Out Donald Trump Duri...\n",
              "\n",
              "[5 rows x 5 columns]"
            ]
          },
          "metadata": {
            "tags": []
          },
          "execution_count": 33
        }
      ]
    },
    {
      "cell_type": "markdown",
      "metadata": {
        "id": "X-SDb0hEcvBv"
      },
      "source": [
        "**Note**: This is the sentiment for the titles only! "
      ]
    },
    {
      "cell_type": "code",
      "metadata": {
        "id": "3YC_G5QNcmcR",
        "colab": {
          "base_uri": "https://localhost:8080/",
          "height": 293
        },
        "outputId": "686dd88d-d593-41b4-d2a5-34c4f78527e1"
      },
      "source": [
        "# drop token and stop columns for nltk data and create pos, neg, neu, compound columns\n",
        "# nltk_data_sent = nltk_data.drop(['token','stop'],axis=1)\\\n",
        "nltk_data_sent = nltk_data.assign(pos=nltk_data_sentiments['pos'])\\\n",
        ".assign(neg=nltk_data_sentiments['neg'])\\\n",
        ".assign(neu=nltk_data_sentiments['neu'])\\\n",
        ".assign(compound=nltk_data_sentiments['compound'])\n",
        "\n",
        "fake_sentiments = nltk_data_sent\n",
        "fake_sentiments.head()"
      ],
      "execution_count": null,
      "outputs": [
        {
          "output_type": "execute_result",
          "data": {
            "text/html": [
              "<div>\n",
              "<style scoped>\n",
              "    .dataframe tbody tr th:only-of-type {\n",
              "        vertical-align: middle;\n",
              "    }\n",
              "\n",
              "    .dataframe tbody tr th {\n",
              "        vertical-align: top;\n",
              "    }\n",
              "\n",
              "    .dataframe thead th {\n",
              "        text-align: right;\n",
              "    }\n",
              "</style>\n",
              "<table border=\"1\" class=\"dataframe\">\n",
              "  <thead>\n",
              "    <tr style=\"text-align: right;\">\n",
              "      <th></th>\n",
              "      <th>title</th>\n",
              "      <th>text</th>\n",
              "      <th>subject</th>\n",
              "      <th>date</th>\n",
              "      <th>token</th>\n",
              "      <th>stop</th>\n",
              "      <th>stem</th>\n",
              "      <th>pos</th>\n",
              "      <th>neg</th>\n",
              "      <th>neu</th>\n",
              "      <th>compound</th>\n",
              "    </tr>\n",
              "  </thead>\n",
              "  <tbody>\n",
              "    <tr>\n",
              "      <th>0</th>\n",
              "      <td>Donald Trump Sends Out Embarrassing New Year s...</td>\n",
              "      <td>Donald Trump just couldn t wish all Americans ...</td>\n",
              "      <td>News</td>\n",
              "      <td>December 31, 2017</td>\n",
              "      <td>[Donald, Trump, Sends, Out, Embarrassing, New,...</td>\n",
              "      <td>[Donald, Trump, Sends, Out, Embarrassing, New,...</td>\n",
              "      <td>[donald, trump, send, out, embarrass, new, yea...</td>\n",
              "      <td>0.000</td>\n",
              "      <td>0.371</td>\n",
              "      <td>0.629</td>\n",
              "      <td>-0.7096</td>\n",
              "    </tr>\n",
              "    <tr>\n",
              "      <th>1</th>\n",
              "      <td>Drunk Bragging Trump Staffer Started Russian C...</td>\n",
              "      <td>House Intelligence Committee Chairman Devin Nu...</td>\n",
              "      <td>News</td>\n",
              "      <td>December 31, 2017</td>\n",
              "      <td>[Drunk, Bragging, Trump, Staffer, Started, Rus...</td>\n",
              "      <td>[Drunk, Bragging, Trump, Staffer, Started, Rus...</td>\n",
              "      <td>[drunk, brag, trump, staffer, start, russian, ...</td>\n",
              "      <td>0.000</td>\n",
              "      <td>0.255</td>\n",
              "      <td>0.745</td>\n",
              "      <td>-0.3400</td>\n",
              "    </tr>\n",
              "    <tr>\n",
              "      <th>2</th>\n",
              "      <td>Sheriff David Clarke Becomes An Internet Joke ...</td>\n",
              "      <td>On Friday, it was revealed that former Milwauk...</td>\n",
              "      <td>News</td>\n",
              "      <td>December 30, 2017</td>\n",
              "      <td>[Sheriff, David, Clarke, Becomes, An, Internet...</td>\n",
              "      <td>[Sheriff, David, Clarke, Becomes, An, Internet...</td>\n",
              "      <td>[sheriff, david, clark, becom, An, internet, j...</td>\n",
              "      <td>0.118</td>\n",
              "      <td>0.183</td>\n",
              "      <td>0.699</td>\n",
              "      <td>-0.2960</td>\n",
              "    </tr>\n",
              "    <tr>\n",
              "      <th>3</th>\n",
              "      <td>Trump Is So Obsessed He Even Has Obama s Name ...</td>\n",
              "      <td>On Christmas day, Donald Trump announced that ...</td>\n",
              "      <td>News</td>\n",
              "      <td>December 29, 2017</td>\n",
              "      <td>[Trump, Is, So, Obsessed, He, Even, Has, Obama...</td>\n",
              "      <td>[Trump, Is, So, Obsessed, He, Even, Has, Obama...</td>\n",
              "      <td>[trump, Is, So, obsess, He, even, ha, obama, n...</td>\n",
              "      <td>0.000</td>\n",
              "      <td>0.133</td>\n",
              "      <td>0.867</td>\n",
              "      <td>-0.2484</td>\n",
              "    </tr>\n",
              "    <tr>\n",
              "      <th>4</th>\n",
              "      <td>Pope Francis Just Called Out Donald Trump Duri...</td>\n",
              "      <td>Pope Francis used his annual Christmas Day mes...</td>\n",
              "      <td>News</td>\n",
              "      <td>December 25, 2017</td>\n",
              "      <td>[Pope, Francis, Just, Called, Out, Donald, Tru...</td>\n",
              "      <td>[Pope, Francis, Just, Called, Out, Donald, Tru...</td>\n",
              "      <td>[pope, franci, just, call, out, donald, trump,...</td>\n",
              "      <td>0.000</td>\n",
              "      <td>0.000</td>\n",
              "      <td>1.000</td>\n",
              "      <td>0.0000</td>\n",
              "    </tr>\n",
              "  </tbody>\n",
              "</table>\n",
              "</div>"
            ],
            "text/plain": [
              "                                               title  ... compound\n",
              "0  Donald Trump Sends Out Embarrassing New Year s...  ...  -0.7096\n",
              "1  Drunk Bragging Trump Staffer Started Russian C...  ...  -0.3400\n",
              "2  Sheriff David Clarke Becomes An Internet Joke ...  ...  -0.2960\n",
              "3  Trump Is So Obsessed He Even Has Obama s Name ...  ...  -0.2484\n",
              "4  Pope Francis Just Called Out Donald Trump Duri...  ...   0.0000\n",
              "\n",
              "[5 rows x 11 columns]"
            ]
          },
          "metadata": {
            "tags": []
          },
          "execution_count": 34
        }
      ]
    },
    {
      "cell_type": "markdown",
      "metadata": {
        "id": "J0OdihwRA4nI"
      },
      "source": [
        "# Data Exploration"
      ]
    },
    {
      "cell_type": "markdown",
      "metadata": {
        "id": "SYbcT95tL66Q"
      },
      "source": [
        "### Combine data sets and label"
      ]
    },
    {
      "cell_type": "code",
      "metadata": {
        "id": "swjs-Uz9KYLJ"
      },
      "source": [
        "# combine and label the two sentiment data frames \n",
        "fake_labeled = fake_sentiments\n",
        "fake_labeled['label'] = 0 #fake\n",
        "true_labeled = true_sentiments\n",
        "true_labeled['label'] = 1 #true\n",
        "df_labeled = pd.concat([fake_labeled, true_labeled])"
      ],
      "execution_count": null,
      "outputs": []
    },
    {
      "cell_type": "code",
      "metadata": {
        "colab": {
          "base_uri": "https://localhost:8080/"
        },
        "id": "I9CA3OPdYyJ0",
        "outputId": "12ef0ba5-5d2e-4397-d24a-879b66d176c7"
      },
      "source": [
        "# check for null data in df_labeled\n",
        "df_labeled.isna().sum()"
      ],
      "execution_count": null,
      "outputs": [
        {
          "output_type": "execute_result",
          "data": {
            "text/plain": [
              "title             0\n",
              "text              0\n",
              "subject           0\n",
              "date              0\n",
              "token             0\n",
              "stop              0\n",
              "stem              0\n",
              "pos               0\n",
              "neg               0\n",
              "neu               0\n",
              "compound          0\n",
              "label             0\n",
              "num words         0\n",
              "num characters    0\n",
              "dtype: int64"
            ]
          },
          "metadata": {
            "tags": []
          },
          "execution_count": 44
        }
      ]
    },
    {
      "cell_type": "code",
      "metadata": {
        "colab": {
          "base_uri": "https://localhost:8080/",
          "height": 615
        },
        "id": "zgNecOGNDdle",
        "outputId": "141d530b-8580-4ec6-c075-7e8b215a1d20"
      },
      "source": [
        "df_labeled['num words']=df_labeled['title'].str.count(' ') + 1\n",
        "df_labeled['num characters'] = df_labeled['title'].str.replace(\" \", \"\")\n",
        "df_labeled['num characters'] = df_labeled['num characters'].str.len()\n",
        "df_labeled"
      ],
      "execution_count": null,
      "outputs": [
        {
          "output_type": "execute_result",
          "data": {
            "text/html": [
              "<div>\n",
              "<style scoped>\n",
              "    .dataframe tbody tr th:only-of-type {\n",
              "        vertical-align: middle;\n",
              "    }\n",
              "\n",
              "    .dataframe tbody tr th {\n",
              "        vertical-align: top;\n",
              "    }\n",
              "\n",
              "    .dataframe thead th {\n",
              "        text-align: right;\n",
              "    }\n",
              "</style>\n",
              "<table border=\"1\" class=\"dataframe\">\n",
              "  <thead>\n",
              "    <tr style=\"text-align: right;\">\n",
              "      <th></th>\n",
              "      <th>title</th>\n",
              "      <th>text</th>\n",
              "      <th>subject</th>\n",
              "      <th>date</th>\n",
              "      <th>token</th>\n",
              "      <th>stop</th>\n",
              "      <th>stem</th>\n",
              "      <th>pos</th>\n",
              "      <th>neg</th>\n",
              "      <th>neu</th>\n",
              "      <th>compound</th>\n",
              "      <th>label</th>\n",
              "      <th>num words</th>\n",
              "      <th>num characters</th>\n",
              "    </tr>\n",
              "  </thead>\n",
              "  <tbody>\n",
              "    <tr>\n",
              "      <th>0</th>\n",
              "      <td>Donald Trump Sends Out Embarrassing New Year s...</td>\n",
              "      <td>Donald Trump just couldn t wish all Americans ...</td>\n",
              "      <td>News</td>\n",
              "      <td>December 31, 2017</td>\n",
              "      <td>[Donald, Trump, Sends, Out, Embarrassing, New,...</td>\n",
              "      <td>[Donald, Trump, Sends, Out, Embarrassing, New,...</td>\n",
              "      <td>[donald, trump, send, out, embarrass, new, yea...</td>\n",
              "      <td>0.000</td>\n",
              "      <td>0.371</td>\n",
              "      <td>0.629</td>\n",
              "      <td>-0.7096</td>\n",
              "      <td>0</td>\n",
              "      <td>13</td>\n",
              "      <td>65</td>\n",
              "    </tr>\n",
              "    <tr>\n",
              "      <th>1</th>\n",
              "      <td>Drunk Bragging Trump Staffer Started Russian C...</td>\n",
              "      <td>House Intelligence Committee Chairman Devin Nu...</td>\n",
              "      <td>News</td>\n",
              "      <td>December 31, 2017</td>\n",
              "      <td>[Drunk, Bragging, Trump, Staffer, Started, Rus...</td>\n",
              "      <td>[Drunk, Bragging, Trump, Staffer, Started, Rus...</td>\n",
              "      <td>[drunk, brag, trump, staffer, start, russian, ...</td>\n",
              "      <td>0.000</td>\n",
              "      <td>0.255</td>\n",
              "      <td>0.745</td>\n",
              "      <td>-0.3400</td>\n",
              "      <td>0</td>\n",
              "      <td>8</td>\n",
              "      <td>61</td>\n",
              "    </tr>\n",
              "    <tr>\n",
              "      <th>2</th>\n",
              "      <td>Sheriff David Clarke Becomes An Internet Joke ...</td>\n",
              "      <td>On Friday, it was revealed that former Milwauk...</td>\n",
              "      <td>News</td>\n",
              "      <td>December 30, 2017</td>\n",
              "      <td>[Sheriff, David, Clarke, Becomes, An, Internet...</td>\n",
              "      <td>[Sheriff, David, Clarke, Becomes, An, Internet...</td>\n",
              "      <td>[sheriff, david, clark, becom, An, internet, j...</td>\n",
              "      <td>0.118</td>\n",
              "      <td>0.183</td>\n",
              "      <td>0.699</td>\n",
              "      <td>-0.2960</td>\n",
              "      <td>0</td>\n",
              "      <td>15</td>\n",
              "      <td>73</td>\n",
              "    </tr>\n",
              "    <tr>\n",
              "      <th>3</th>\n",
              "      <td>Trump Is So Obsessed He Even Has Obama s Name ...</td>\n",
              "      <td>On Christmas day, Donald Trump announced that ...</td>\n",
              "      <td>News</td>\n",
              "      <td>December 29, 2017</td>\n",
              "      <td>[Trump, Is, So, Obsessed, He, Even, Has, Obama...</td>\n",
              "      <td>[Trump, Is, So, Obsessed, He, Even, Has, Obama...</td>\n",
              "      <td>[trump, Is, So, obsess, He, even, ha, obama, n...</td>\n",
              "      <td>0.000</td>\n",
              "      <td>0.133</td>\n",
              "      <td>0.867</td>\n",
              "      <td>-0.2484</td>\n",
              "      <td>0</td>\n",
              "      <td>15</td>\n",
              "      <td>61</td>\n",
              "    </tr>\n",
              "    <tr>\n",
              "      <th>4</th>\n",
              "      <td>Pope Francis Just Called Out Donald Trump Duri...</td>\n",
              "      <td>Pope Francis used his annual Christmas Day mes...</td>\n",
              "      <td>News</td>\n",
              "      <td>December 25, 2017</td>\n",
              "      <td>[Pope, Francis, Just, Called, Out, Donald, Tru...</td>\n",
              "      <td>[Pope, Francis, Just, Called, Out, Donald, Tru...</td>\n",
              "      <td>[pope, franci, just, call, out, donald, trump,...</td>\n",
              "      <td>0.000</td>\n",
              "      <td>0.000</td>\n",
              "      <td>1.000</td>\n",
              "      <td>0.0000</td>\n",
              "      <td>0</td>\n",
              "      <td>11</td>\n",
              "      <td>59</td>\n",
              "    </tr>\n",
              "    <tr>\n",
              "      <th>...</th>\n",
              "      <td>...</td>\n",
              "      <td>...</td>\n",
              "      <td>...</td>\n",
              "      <td>...</td>\n",
              "      <td>...</td>\n",
              "      <td>...</td>\n",
              "      <td>...</td>\n",
              "      <td>...</td>\n",
              "      <td>...</td>\n",
              "      <td>...</td>\n",
              "      <td>...</td>\n",
              "      <td>...</td>\n",
              "      <td>...</td>\n",
              "      <td>...</td>\n",
              "    </tr>\n",
              "    <tr>\n",
              "      <th>21412</th>\n",
              "      <td>Fully committed NATO backs new United States a...</td>\n",
              "      <td>BRUSSELS (Reuters) - NATO allies on Tuesday we...</td>\n",
              "      <td>worldnews</td>\n",
              "      <td>August 22, 2017</td>\n",
              "      <td>[Fully, committed, NATO, backs, new, United, S...</td>\n",
              "      <td>[Fully, committed, NATO, backs, new, United, S...</td>\n",
              "      <td>[fulli, commit, nato, back, new, unit, state, ...</td>\n",
              "      <td>0.380</td>\n",
              "      <td>0.107</td>\n",
              "      <td>0.513</td>\n",
              "      <td>0.5760</td>\n",
              "      <td>1</td>\n",
              "      <td>10</td>\n",
              "      <td>59</td>\n",
              "    </tr>\n",
              "    <tr>\n",
              "      <th>21413</th>\n",
              "      <td>Lexis Nexis withdrew two products from Chinese...</td>\n",
              "      <td>LONDON (Reuters) - LexisNexis, a provider of l...</td>\n",
              "      <td>worldnews</td>\n",
              "      <td>August 22, 2017</td>\n",
              "      <td>[Lexis, Nexis, withdrew, two, products, from, ...</td>\n",
              "      <td>[Lexis, Nexis, withdrew, two, products, Chines...</td>\n",
              "      <td>[lexi, nexi, withdrew, two, product, chines, m...</td>\n",
              "      <td>0.000</td>\n",
              "      <td>0.000</td>\n",
              "      <td>1.000</td>\n",
              "      <td>0.0000</td>\n",
              "      <td>1</td>\n",
              "      <td>8</td>\n",
              "      <td>46</td>\n",
              "    </tr>\n",
              "    <tr>\n",
              "      <th>21414</th>\n",
              "      <td>Minsk cultural hub becomes haven from authorities</td>\n",
              "      <td>MINSK (Reuters) - In the shadow of disused Sov...</td>\n",
              "      <td>worldnews</td>\n",
              "      <td>August 22, 2017</td>\n",
              "      <td>[Minsk, cultural, hub, becomes, haven, from, a...</td>\n",
              "      <td>[Minsk, cultural, hub, becomes, authorities]</td>\n",
              "      <td>[minsk, cultur, hub, becom, author]</td>\n",
              "      <td>0.000</td>\n",
              "      <td>0.000</td>\n",
              "      <td>1.000</td>\n",
              "      <td>0.0000</td>\n",
              "      <td>1</td>\n",
              "      <td>7</td>\n",
              "      <td>43</td>\n",
              "    </tr>\n",
              "    <tr>\n",
              "      <th>21415</th>\n",
              "      <td>Vatican upbeat on possibility of Pope Francis ...</td>\n",
              "      <td>MOSCOW (Reuters) - Vatican Secretary of State ...</td>\n",
              "      <td>worldnews</td>\n",
              "      <td>August 22, 2017</td>\n",
              "      <td>[Vatican, upbeat, on, possibility, of, Pope, F...</td>\n",
              "      <td>[Vatican, upbeat, possibility, Pope, Francis, ...</td>\n",
              "      <td>[vatican, upbeat, possibl, pope, franci, visit...</td>\n",
              "      <td>0.000</td>\n",
              "      <td>0.000</td>\n",
              "      <td>1.000</td>\n",
              "      <td>0.0000</td>\n",
              "      <td>1</td>\n",
              "      <td>9</td>\n",
              "      <td>53</td>\n",
              "    </tr>\n",
              "    <tr>\n",
              "      <th>21416</th>\n",
              "      <td>Indonesia to buy 1 14 billion worth of Russian...</td>\n",
              "      <td>JAKARTA (Reuters) - Indonesia will buy 11 Sukh...</td>\n",
              "      <td>worldnews</td>\n",
              "      <td>August 22, 2017</td>\n",
              "      <td>[Indonesia, to, buy, 1, 14, billion, worth, of...</td>\n",
              "      <td>[Indonesia, buy, 1, 14, billion, worth, Russia...</td>\n",
              "      <td>[indonesia, buy, 1, 14, billion, worth, russia...</td>\n",
              "      <td>0.192</td>\n",
              "      <td>0.000</td>\n",
              "      <td>0.808</td>\n",
              "      <td>0.2263</td>\n",
              "      <td>1</td>\n",
              "      <td>10</td>\n",
              "      <td>42</td>\n",
              "    </tr>\n",
              "  </tbody>\n",
              "</table>\n",
              "<p>44898 rows × 14 columns</p>\n",
              "</div>"
            ],
            "text/plain": [
              "                                                   title  ... num characters\n",
              "0      Donald Trump Sends Out Embarrassing New Year s...  ...             65\n",
              "1      Drunk Bragging Trump Staffer Started Russian C...  ...             61\n",
              "2      Sheriff David Clarke Becomes An Internet Joke ...  ...             73\n",
              "3      Trump Is So Obsessed He Even Has Obama s Name ...  ...             61\n",
              "4      Pope Francis Just Called Out Donald Trump Duri...  ...             59\n",
              "...                                                  ...  ...            ...\n",
              "21412  Fully committed NATO backs new United States a...  ...             59\n",
              "21413  Lexis Nexis withdrew two products from Chinese...  ...             46\n",
              "21414  Minsk cultural hub becomes haven from authorities  ...             43\n",
              "21415  Vatican upbeat on possibility of Pope Francis ...  ...             53\n",
              "21416  Indonesia to buy 1 14 billion worth of Russian...  ...             42\n",
              "\n",
              "[44898 rows x 14 columns]"
            ]
          },
          "metadata": {
            "tags": []
          },
          "execution_count": 36
        }
      ]
    },
    {
      "cell_type": "markdown",
      "metadata": {
        "id": "1oJXrWukOD_3"
      },
      "source": [
        "### Check balance of data"
      ]
    },
    {
      "cell_type": "code",
      "metadata": {
        "colab": {
          "base_uri": "https://localhost:8080/"
        },
        "id": "-4Uenx_yOBJU",
        "outputId": "225cb29d-6286-4b4a-b7e4-1cb96a172595"
      },
      "source": [
        "df_labeled['label'].value_counts()"
      ],
      "execution_count": null,
      "outputs": [
        {
          "output_type": "execute_result",
          "data": {
            "text/plain": [
              "0    23481\n",
              "1    21417\n",
              "Name: label, dtype: int64"
            ]
          },
          "metadata": {
            "tags": []
          },
          "execution_count": 37
        }
      ]
    },
    {
      "cell_type": "code",
      "metadata": {
        "id": "CESb5djeOct6",
        "colab": {
          "base_uri": "https://localhost:8080/",
          "height": 279
        },
        "outputId": "b3388245-495d-4b3b-9100-a1b9be158d37"
      },
      "source": [
        "sns.countplot(x=\"label\", data=df_labeled, palette=\"Set2\")\n",
        "plt.show()"
      ],
      "execution_count": null,
      "outputs": [
        {
          "output_type": "display_data",
          "data": {
            "image/png": "[encoded data removed]",
            "text/plain": [
              "<Figure size 432x288 with 1 Axes>"
            ]
          },
          "metadata": {
            "tags": [],
            "needs_background": "light"
          }
        }
      ]
    },
    {
      "cell_type": "markdown",
      "metadata": {
        "id": "BRNx0raWLe-a"
      },
      "source": [
        "### Range and Mean of Compound Scores"
      ]
    },
    {
      "cell_type": "code",
      "metadata": {
        "colab": {
          "base_uri": "https://localhost:8080/"
        },
        "id": "qI9TeQbfA3bn",
        "outputId": "b2ce910f-16c1-487a-a216-dd4be7013958"
      },
      "source": [
        "print('True Sentiment Compund Score Range:')\n",
        "print('Min:',true_sentiments['compound'].min(),'Max:',true_sentiments['compound'].max())\n",
        "print(' ')\n",
        "print('True Sentiment Compund Score Mean:')\n",
        "print(true_sentiments['compound'].mean())\n",
        "print(' ')\n",
        "print('Fake Sentiment Compund Score Range:')\n",
        "print('Min:',fake_sentiments['compound'].min(),'Max:',fake_sentiments['compound'].max())\n",
        "print(' ')\n",
        "print('Fake Sentiment Compund Score Mean:')\n",
        "print(fake_sentiments['compound'].mean())"
      ],
      "execution_count": null,
      "outputs": [
        {
          "output_type": "stream",
          "text": [
            "True Sentiment Compund Score Range:\n",
            "Min: -0.9403 Max: 0.9246\n",
            " \n",
            "True Sentiment Compund Score Mean:\n",
            "-0.0034896764252695597\n",
            " \n",
            "Fake Sentiment Compund Score Range:\n",
            "Min: -0.9757 Max: 0.9771\n",
            " \n",
            "Fake Sentiment Compund Score Mean:\n",
            "-0.17498666155615408\n"
          ],
          "name": "stdout"
        }
      ]
    },
    {
      "cell_type": "markdown",
      "metadata": {
        "id": "S4gMSwHJLjXK"
      },
      "source": [
        "### Proportion of fake/true news articles with subject types"
      ]
    },
    {
      "cell_type": "code",
      "metadata": {
        "colab": {
          "base_uri": "https://localhost:8080/"
        },
        "id": "_2R9X9gAGHol",
        "outputId": "7c4b4744-fe04-4130-d343-977be68f1cfb"
      },
      "source": [
        "subject_type = df_labeled['subject'].unique()\n",
        "\n",
        "for subject in subject_type:\n",
        "    new_df = df_labeled[df_labeled['subject'] == subject]\n",
        "    fake = new_df[new_df['label'] == 'fake'].shape[0]\n",
        "    true = new_df[new_df['label'] == 'true'].shape[0]\n",
        "    print(f'There are {fake} fake articles with subject {subject}')"
      ],
      "execution_count": null,
      "outputs": [
        {
          "output_type": "stream",
          "text": [
            "There are 0 fake articles with subject News\n",
            "There are 0 fake articles with subject politics\n",
            "There are 0 fake articles with subject Government News\n",
            "There are 0 fake articles with subject left-news\n",
            "There are 0 fake articles with subject US_News\n",
            "There are 0 fake articles with subject Middle-east\n",
            "There are 0 fake articles with subject politicsNews\n",
            "There are 0 fake articles with subject worldnews\n"
          ],
          "name": "stdout"
        }
      ]
    },
    {
      "cell_type": "code",
      "metadata": {
        "colab": {
          "base_uri": "https://localhost:8080/"
        },
        "id": "u3bpL5WnH0tn",
        "outputId": "83eac081-8cb2-4a15-fe71-107f1286144e"
      },
      "source": [
        "subject_type = df_labeled['subject'].unique()\n",
        "\n",
        "for subject in subject_type:\n",
        "    new_df = df_labeled[df_labeled['subject'] == subject]\n",
        "    fake = new_df[new_df['label'] == 'fake'].shape[0]\n",
        "    true = new_df[new_df['label'] == 'true'].shape[0]\n",
        "    print(f'There are {true} true articles with subject {subject}')"
      ],
      "execution_count": null,
      "outputs": [
        {
          "output_type": "stream",
          "text": [
            "There are 0 true articles with subject News\n",
            "There are 0 true articles with subject politics\n",
            "There are 0 true articles with subject Government News\n",
            "There are 0 true articles with subject left-news\n",
            "There are 0 true articles with subject US_News\n",
            "There are 0 true articles with subject Middle-east\n",
            "There are 0 true articles with subject politicsNews\n",
            "There are 0 true articles with subject worldnews\n"
          ],
          "name": "stdout"
        }
      ]
    },
    {
      "cell_type": "markdown",
      "metadata": {
        "id": "tuKUuyQXZDOa"
      },
      "source": [
        "#### It looks like the two data sets were labled with completely different 'subjects' 🤔"
      ]
    },
    {
      "cell_type": "markdown",
      "metadata": {
        "id": "5gW1ukyqOpVh"
      },
      "source": [
        "### TF-IDF"
      ]
    },
    {
      "cell_type": "code",
      "metadata": {
        "id": "RxvgOJZSy9-7"
      },
      "source": [
        "from sklearn.feature_extraction.text import TfidfVectorizer, CountVectorizer\n",
        "vectorizer = CountVectorizer(analyzer = 'word', max_features = 2000, tokenizer = word_tokenize, \n",
        "                             stop_words = stopwords.words('english'))"
      ],
      "execution_count": null,
      "outputs": []
    },
    {
      "cell_type": "code",
      "metadata": {
        "colab": {
          "base_uri": "https://localhost:8080/"
        },
        "id": "MgOm7_B8zpqC",
        "outputId": "56240ef9-e151-444e-f93a-7bf26d00f563"
      },
      "source": [
        "X = vectorizer.fit_transform(df_labeled['title']).toarray()\n",
        "y = np.array(df_labeled['label'])\n",
        "X"
      ],
      "execution_count": null,
      "outputs": [
        {
          "output_type": "stream",
          "text": [
            "/usr/local/lib/python3.7/dist-packages/sklearn/feature_extraction/text.py:385: UserWarning: Your stop_words may be inconsistent with your preprocessing. Tokenizing the stop words generated tokens [\"'d\", \"'ll\", \"'re\", \"'s\", \"'ve\", 'could', 'might', 'must', \"n't\", 'need', 'sha', 'wo', 'would'] not in stop_words.\n",
            "  'stop_words.' % sorted(inconsistent))\n"
          ],
          "name": "stderr"
        },
        {
          "output_type": "execute_result",
          "data": {
            "text/plain": [
              "array([[0, 0, 0, ..., 0, 0, 0],\n",
              "       [0, 0, 0, ..., 0, 0, 0],\n",
              "       [0, 0, 0, ..., 0, 0, 0],\n",
              "       ...,\n",
              "       [0, 0, 0, ..., 0, 0, 0],\n",
              "       [0, 0, 0, ..., 0, 0, 0],\n",
              "       [0, 1, 0, ..., 0, 0, 0]])"
            ]
          },
          "metadata": {
            "tags": []
          },
          "execution_count": 43
        }
      ]
    },
    {
      "cell_type": "code",
      "metadata": {
        "id": "DUb4BT_Pxo9W"
      },
      "source": [
        "from google.colab import files\n",
        "\n",
        "# Add the data of the form [X, y] & save\n",
        "Xy_array = np.hstack([X, y.reshape(-1,1)])\n",
        "\n",
        "np.save('data.npy', Xy_array)\n",
        "files.download('data.npy')"
      ],
      "execution_count": null,
      "outputs": []
    },
    {
      "cell_type": "code",
      "metadata": {
        "colab": {
          "base_uri": "https://localhost:8080/"
        },
        "id": "13XmTrfI3i-k",
        "outputId": "c176c2b9-15a1-4cd6-ca4b-c4bd8493e55d"
      },
      "source": [
        "from google.colab import drive\n",
        "drive.mount('/content/drive')"
      ],
      "execution_count": null,
      "outputs": [
        {
          "output_type": "stream",
          "text": [
            "Drive already mounted at /content/drive; to attempt to forcibly remount, call drive.mount(\"/content/drive\", force_remount=True).\n"
          ],
          "name": "stdout"
        }
      ]
    },
    {
      "cell_type": "code",
      "metadata": {
        "colab": {
          "base_uri": "https://localhost:8080/"
        },
        "id": "jF4gElRB0Xho",
        "outputId": "7e3a46c2-fad9-4080-a6aa-b4312bda271d"
      },
      "source": [
        "tfidf = TfidfVectorizer(sublinear_tf = True, analyzer = 'word', max_features = 2000, tokenizer = word_tokenize)\n",
        "tfidf_X = tfidf.fit_transform(df_labeled['title']).toarray()\n",
        "tfidf_X"
      ],
      "execution_count": null,
      "outputs": [
        {
          "output_type": "execute_result",
          "data": {
            "text/plain": [
              "array([[0.        , 0.        , 0.        , ..., 0.        , 0.        ,\n",
              "        0.        ],\n",
              "       [0.        , 0.        , 0.        , ..., 0.        , 0.        ,\n",
              "        0.        ],\n",
              "       [0.        , 0.        , 0.        , ..., 0.        , 0.        ,\n",
              "        0.        ],\n",
              "       ...,\n",
              "       [0.        , 0.        , 0.        , ..., 0.        , 0.        ,\n",
              "        0.        ],\n",
              "       [0.        , 0.        , 0.        , ..., 0.        , 0.        ,\n",
              "        0.        ],\n",
              "       [0.        , 0.35842321, 0.        , ..., 0.        , 0.        ,\n",
              "        0.        ]])"
            ]
          },
          "metadata": {
            "tags": []
          },
          "execution_count": 43
        }
      ]
    },
    {
      "cell_type": "code",
      "metadata": {
        "id": "ucDgreOFLEO3",
        "colab": {
          "base_uri": "https://localhost:8080/",
          "height": 34
        },
        "outputId": "4ababf8a-4044-44fb-95bd-69bd634dc553"
      },
      "source": [
        "# export the data\n",
        "from google.colab import files\n",
        "df_labeled.to_csv(\"df_labeled.csv\")\n",
        "files.download(\"df_labeled.csv\")"
      ],
      "execution_count": null,
      "outputs": [
        {
          "output_type": "display_data",
          "data": {
            "application/javascript": [
              "\n",
              "    async function download(id, filename, size) {\n",
              "      if (!google.colab.kernel.accessAllowed) {\n",
              "        return;\n",
              "      }\n",
              "      const div = document.createElement('div');\n",
              "      const label = document.createElement('label');\n",
              "      label.textContent = `Downloading \"${filename}\": `;\n",
              "      div.appendChild(label);\n",
              "      const progress = document.createElement('progress');\n",
              "      progress.max = size;\n",
              "      div.appendChild(progress);\n",
              "      document.body.appendChild(div);\n",
              "\n",
              "      const buffers = [];\n",
              "      let downloaded = 0;\n",
              "\n",
              "      const channel = await google.colab.kernel.comms.open(id);\n",
              "      // Send a message to notify the kernel that we're ready.\n",
              "      channel.send({})\n",
              "\n",
              "      for await (const message of channel.messages) {\n",
              "        // Send a message to notify the kernel that we're ready.\n",
              "        channel.send({})\n",
              "        if (message.buffers) {\n",
              "          for (const buffer of message.buffers) {\n",
              "            buffers.push(buffer);\n",
              "            downloaded += buffer.byteLength;\n",
              "            progress.value = downloaded;\n",
              "          }\n",
              "        }\n",
              "      }\n",
              "      const blob = new Blob(buffers, {type: 'application/binary'});\n",
              "      const a = document.createElement('a');\n",
              "      a.href = window.URL.createObjectURL(blob);\n",
              "      a.download = filename;\n",
              "      div.appendChild(a);\n",
              "      a.click();\n",
              "      div.remove();\n",
              "    }\n",
              "  "
            ],
            "text/plain": [
              "<IPython.core.display.Javascript object>"
            ]
          },
          "metadata": {
            "tags": []
          }
        },
        {
          "output_type": "display_data",
          "data": {
            "application/javascript": [
              "download(\"download_5145ac93-1e56-4833-939e-3f70147406a4\", \"df_labeled.csv\", 133168514)"
            ],
            "text/plain": [
              "<IPython.core.display.Javascript object>"
            ]
          },
          "metadata": {
            "tags": []
          }
        }
      ]
    },
    {
      "cell_type": "code",
      "metadata": {
        "id": "hDx3otOWaFJ5"
      },
      "source": [
        ""
      ],
      "execution_count": null,
      "outputs": []
    }
  ]
}